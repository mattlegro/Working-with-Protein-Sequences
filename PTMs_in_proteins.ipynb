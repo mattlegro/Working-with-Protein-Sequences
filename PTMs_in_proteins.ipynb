{
 "cells": [
  {
   "cell_type": "markdown",
   "id": "dfa5be1b-ef9e-4c71-9561-763ba0ad063a",
   "metadata": {},
   "source": [
    "# This Notebook"
   ]
  },
  {
   "cell_type": "markdown",
   "id": "da2654c5-9588-4701-8038-85e582a06a3a",
   "metadata": {},
   "source": [
    "In this notebook we will be writing a function to find the location of amino acids modified by Post-Translational Modification (PTM) in a full protein sequence given the location of the amino acid in a peptide fragement. Given the file `input.tsv` containing a list of peptide fragments, some containing PTMs, and a file `proteins.fasta` containing named full protein sequences, the function outputs a `csv` file with three columns; `ProteinName`, the protein in which the PTM is found, `FullPeptideName`, the full peptide fragment including information on the modded amino acid, and `ModifiedAminoPositions`, the zero-indexed indices of the modifed amino acids in then full protein sequence."
   ]
  },
  {
   "cell_type": "markdown",
   "id": "d6eae35f-66fe-4d19-9e93-fe90847d5111",
   "metadata": {},
   "source": [
    "*Note: This project intentionally uses base python only, though importing modules like csv, re (RegEx), Pandas, and others may have been helpful.*"
   ]
  },
  {
   "cell_type": "markdown",
   "id": "443fe2fe-122e-402b-8fc6-4b70f05b710d",
   "metadata": {},
   "source": [
    "## Exploring Files"
   ]
  },
  {
   "cell_type": "markdown",
   "id": "15bd6a15-d426-44d3-9379-3d82f21aa411",
   "metadata": {},
   "source": [
    "From manually opening the file, some don't have PTMs, so we'll keep only the lines that have 'Unimod' when we read it in."
   ]
  },
  {
   "cell_type": "code",
   "execution_count": 1,
   "id": "597d9e4e-223c-4f8e-830f-cb1215135a1b",
   "metadata": {},
   "outputs": [],
   "source": [
    "peptidesPTM = []\n",
    "with open('./data/input.tsv') as f:\n",
    "    for line in f:\n",
    "        if 'UniMod' in line:\n",
    "            peptidesPTM.append(line)"
   ]
  },
  {
   "cell_type": "code",
   "execution_count": 2,
   "id": "c6d97604-6907-49eb-b920-f5578cd7b691",
   "metadata": {},
   "outputs": [
    {
     "data": {
      "text/plain": [
       "['DN(UniMod:5)SVHWERPQKPK\\n',\n",
       " 'DVFFG(UniMod:6)PK\\n',\n",
       " 'FKDLGEEN(UniMod:5)FK\\n',\n",
       " 'IQHC(UniMod:4)KKLSSWVLLM(UniMod:35)K\\n',\n",
       " 'L(UniMod:7)AEYHAKATEHLSTLSEK\\n']"
      ]
     },
     "execution_count": 2,
     "metadata": {},
     "output_type": "execute_result"
    }
   ],
   "source": [
    "peptidesPTM[:5]"
   ]
  },
  {
   "cell_type": "markdown",
   "id": "d2573b37-f3ca-4619-80f4-700483449a8c",
   "metadata": {},
   "source": [
    "Oops, need to remove new line indicator."
   ]
  },
  {
   "cell_type": "code",
   "execution_count": 3,
   "id": "66ad6101-f156-46b1-8487-1edc7fb4efbc",
   "metadata": {},
   "outputs": [],
   "source": [
    "peptidesPTM = [peptide.rstrip() for peptide in peptidesPTM]"
   ]
  },
  {
   "cell_type": "code",
   "execution_count": 4,
   "id": "f708e56e-7c1b-42d3-af97-a0484deb1964",
   "metadata": {},
   "outputs": [
    {
     "data": {
      "text/plain": [
       "['DN(UniMod:5)SVHWERPQKPK',\n",
       " 'DVFFG(UniMod:6)PK',\n",
       " 'FKDLGEEN(UniMod:5)FK',\n",
       " 'IQHC(UniMod:4)KKLSSWVLLM(UniMod:35)K',\n",
       " 'L(UniMod:7)AEYHAKATEHLSTLSEK']"
      ]
     },
     "execution_count": 4,
     "metadata": {},
     "output_type": "execute_result"
    }
   ],
   "source": [
    "peptidesPTM[:5]"
   ]
  },
  {
   "cell_type": "markdown",
   "id": "3242d7e5-39f0-42dc-8c43-18e3cf3b8d67",
   "metadata": {},
   "source": [
    "Looks nice, now here and from looking at the file I see we'll need to be able to handle peptide fragments with multiple modified amino acids. I'm thinking splitting the fragments at the modified acids might be a good strategy."
   ]
  },
  {
   "cell_type": "code",
   "execution_count": 5,
   "id": "2377f437-ea16-4609-8f01-cff56990a0a9",
   "metadata": {},
   "outputs": [],
   "source": [
    "test_peptide = peptidesPTM[3]"
   ]
  },
  {
   "cell_type": "code",
   "execution_count": 6,
   "id": "5eb5112b-f29a-47df-9bb7-9e5810fac54a",
   "metadata": {},
   "outputs": [
    {
     "data": {
      "text/plain": [
       "2"
      ]
     },
     "execution_count": 6,
     "metadata": {},
     "output_type": "execute_result"
    }
   ],
   "source": [
    "test_peptide.find('HC')"
   ]
  },
  {
   "cell_type": "code",
   "execution_count": 7,
   "id": "bd48504f-510e-47e0-977e-bd625c671a95",
   "metadata": {},
   "outputs": [],
   "source": [
    "search_strs = test_peptide.split('(')\n",
    "for idx, search_str in enumerate(search_strs):\n",
    "    if 'Uni' in search_str:\n",
    "        close_loc = search_str.find(')')\n",
    "        search_strs[idx] = search_str[close_loc+1:]        "
   ]
  },
  {
   "cell_type": "code",
   "execution_count": 8,
   "id": "e4b6293e-236c-4201-8524-a148869d00f4",
   "metadata": {},
   "outputs": [
    {
     "data": {
      "text/plain": [
       "['IQHC', 'KKLSSWVLLM', 'K']"
      ]
     },
     "execution_count": 8,
     "metadata": {},
     "output_type": "execute_result"
    }
   ],
   "source": [
    "search_strs"
   ]
  },
  {
   "cell_type": "markdown",
   "id": "7f656c1f-f3a8-413c-8ebc-4a7e9d378f4c",
   "metadata": {},
   "source": [
    "Let's bring in the protein sequences to see if we can work with the split fragments."
   ]
  },
  {
   "cell_type": "code",
   "execution_count": 9,
   "id": "2eab455b-3b10-4c92-a079-171a6a1fc88c",
   "metadata": {},
   "outputs": [],
   "source": [
    "proteins = {}\n",
    "with open('./data/proteins.fasta') as f:\n",
    "    for line in f:\n",
    "        if '>' in line:\n",
    "            line = line.replace('>','').rstrip()\n",
    "            current_protein = line\n",
    "            proteins[current_protein] = ''\n",
    "        else:\n",
    "            proteins[current_protein] += line.rstrip()"
   ]
  },
  {
   "cell_type": "markdown",
   "id": "19d359e9-2cbd-4cbe-84e8-b30cc699b434",
   "metadata": {},
   "source": [
    "Testing to see if the proteins match a copy paste from the fasta file."
   ]
  },
  {
   "cell_type": "code",
   "execution_count": 10,
   "id": "305790af-6403-46a0-a734-cd0b8c11eb16",
   "metadata": {},
   "outputs": [
    {
     "data": {
      "text/plain": [
       "True"
      ]
     },
     "execution_count": 10,
     "metadata": {},
     "output_type": "execute_result"
    }
   ],
   "source": [
    "proteins['O75711'] == 'MKLMVLVFTIGLTLLLGVQAMPANRLSCYRKILKDHNCHNLPEGVADLTQIDVNVQDHFWDGKGCEMICYCNFSELLCCPKDVFFGPKISFVIPCNNQ'"
   ]
  },
  {
   "cell_type": "code",
   "execution_count": 11,
   "id": "fc9e065e-75ed-4dcc-a5f0-81ae8f755c9a",
   "metadata": {},
   "outputs": [
    {
     "name": "stdout",
     "output_type": "stream",
     "text": [
      "Found in O75711!\n"
     ]
    }
   ],
   "source": [
    "for protein,sequence in proteins.items():\n",
    "    if 'DVFFGPK' in sequence:\n",
    "        print(f'Found in {protein}!')"
   ]
  },
  {
   "cell_type": "code",
   "execution_count": 12,
   "id": "4ff55729-5603-4be2-9ee8-83d9b023a1fb",
   "metadata": {},
   "outputs": [
    {
     "data": {
      "text/plain": [
       "81"
      ]
     },
     "execution_count": 12,
     "metadata": {},
     "output_type": "execute_result"
    }
   ],
   "source": [
    "proteins['O75711'].find('DVFFG')"
   ]
  },
  {
   "cell_type": "code",
   "execution_count": 13,
   "id": "3cfba4ca-90ca-4fc7-b4ac-0bb21f6c5c91",
   "metadata": {},
   "outputs": [
    {
     "data": {
      "text/plain": [
       "'G'"
      ]
     },
     "execution_count": 13,
     "metadata": {},
     "output_type": "execute_result"
    }
   ],
   "source": [
    "proteins['O75711'][85]"
   ]
  },
  {
   "cell_type": "markdown",
   "id": "b244c3f2-0d9a-4ded-b648-f68ba3585baa",
   "metadata": {},
   "source": [
    "Ok so for the index of G we need the `find` index plus `len(fragment) - 1`. Let's try maybe splitting again?"
   ]
  },
  {
   "cell_type": "code",
   "execution_count": 14,
   "id": "18ad1d93-d41a-4e5a-a98b-b4d6896ff3c3",
   "metadata": {},
   "outputs": [
    {
     "data": {
      "text/plain": [
       "['MKLMVLVFTIGLTLLLGVQAMPANRLSCYRKILKDHNCHNLPEGVADLTQIDVNVQDHFWDGKGCEMICYCNFSELLCCPK',\n",
       " 'PKISFVIPCNNQ']"
      ]
     },
     "execution_count": 14,
     "metadata": {},
     "output_type": "execute_result"
    }
   ],
   "source": [
    "this_prot_sections = proteins['O75711'].split('DVFFG')\n",
    "this_prot_sections"
   ]
  },
  {
   "cell_type": "code",
   "execution_count": 15,
   "id": "7638cb52-0495-4714-a57f-45ffa647099f",
   "metadata": {},
   "outputs": [
    {
     "data": {
      "text/plain": [
       "81"
      ]
     },
     "execution_count": 15,
     "metadata": {},
     "output_type": "execute_result"
    }
   ],
   "source": [
    "len(this_prot_sections[0])"
   ]
  },
  {
   "cell_type": "code",
   "execution_count": 16,
   "id": "d5b105d7-25f0-4d46-95f5-b1366525865e",
   "metadata": {},
   "outputs": [
    {
     "data": {
      "text/plain": [
       "'K'"
      ]
     },
     "execution_count": 16,
     "metadata": {},
     "output_type": "execute_result"
    }
   ],
   "source": [
    "this_prot_sections[0][80]"
   ]
  },
  {
   "cell_type": "code",
   "execution_count": 17,
   "id": "9c5cae9f-20d9-497c-b880-ce96be5760dd",
   "metadata": {},
   "outputs": [
    {
     "name": "stdout",
     "output_type": "stream",
     "text": [
      "79\n",
      "0\n"
     ]
    }
   ],
   "source": [
    "for section in this_prot_sections:\n",
    "    print(section.find('PK')) "
   ]
  },
  {
   "cell_type": "code",
   "execution_count": 18,
   "id": "34fb4cc1-a809-4a55-9b0a-2751e5bc86ca",
   "metadata": {},
   "outputs": [
    {
     "data": {
      "text/plain": [
       "81"
      ]
     },
     "execution_count": 18,
     "metadata": {},
     "output_type": "execute_result"
    }
   ],
   "source": [
    "proteins['O75711'].find('DVFFGPK')"
   ]
  },
  {
   "cell_type": "markdown",
   "id": "16ab2fd5-1ca7-4b6b-abd0-deb2171a220c",
   "metadata": {},
   "source": [
    "Hmm.. So trying these few blocks for a few of the first five peptide fragments, I'm seeing that joining the peptide fragments without the mod info and searching for it in the protein is the most simple solution. Shorter peptide fragment sections may occur elsewhere in the protein, and not necessarily in conjuction with the rest of the full peptide. But we need to handle finding the location of multiple modified acids in the fragments, so I'm gonna explore a test solution."
   ]
  },
  {
   "cell_type": "code",
   "execution_count": 19,
   "id": "f86095c4-bf37-483f-9197-3691fa2fae5c",
   "metadata": {},
   "outputs": [
    {
     "data": {
      "text/plain": [
       "'hel'"
      ]
     },
     "execution_count": 19,
     "metadata": {},
     "output_type": "execute_result"
    }
   ],
   "source": [
    "''.join(['h','e','l'])"
   ]
  },
  {
   "cell_type": "markdown",
   "id": "a534dc60-ce66-44ed-b8db-364bc5da3e72",
   "metadata": {},
   "source": [
    "We'll imagine that 'h' and 'l' are modified. I think find the last one, grab the positions, then shorten the string until we can't find the desired fragment anymore. This will make maintaining the proper index easy compared to removing the first index and shortening, or looping through characters."
   ]
  },
  {
   "cell_type": "code",
   "execution_count": 20,
   "id": "90294fa8-b7dc-4c8c-a9c6-8aa8c8e75e8b",
   "metadata": {},
   "outputs": [],
   "source": [
    "test_str = 'aksldjhelasdasdlkjsdhelasdjkldfg'"
   ]
  },
  {
   "cell_type": "code",
   "execution_count": 21,
   "id": "1984720e-358d-43f1-9fda-fbe2b82c0402",
   "metadata": {},
   "outputs": [
    {
     "data": {
      "text/plain": [
       "20"
      ]
     },
     "execution_count": 21,
     "metadata": {},
     "output_type": "execute_result"
    }
   ],
   "source": [
    "test_str.rfind('hel')"
   ]
  },
  {
   "cell_type": "code",
   "execution_count": 22,
   "id": "b075680e-a646-4415-a8aa-6dd0af545bbf",
   "metadata": {},
   "outputs": [
    {
     "data": {
      "text/plain": [
       "'aksldjhelasdasdlkjsd'"
      ]
     },
     "execution_count": 22,
     "metadata": {},
     "output_type": "execute_result"
    }
   ],
   "source": [
    "test_str[:20]"
   ]
  },
  {
   "cell_type": "code",
   "execution_count": 23,
   "id": "ec03bf7d-01b0-4143-b7f5-e3548f6c5282",
   "metadata": {},
   "outputs": [
    {
     "name": "stdout",
     "output_type": "stream",
     "text": [
      "20\n",
      "22\n",
      "6\n",
      "8\n"
     ]
    }
   ],
   "source": [
    "locations = []\n",
    "chars = ['h','e','l']\n",
    "locs_in_peptide = [0,2]\n",
    "while ''.join(chars) in test_str:\n",
    "    start = test_str.rfind(''.join(chars))\n",
    "    for loc in locs_in_peptide:\n",
    "        print(start + loc)\n",
    "    test_str = test_str[:start]"
   ]
  },
  {
   "cell_type": "markdown",
   "id": "dd0bbe04-0366-4f07-a7d6-8e577a014ccd",
   "metadata": {},
   "source": [
    "Okay, that seems to work. Let's put all the pieces together to prepare for our final function."
   ]
  },
  {
   "cell_type": "markdown",
   "id": "7973f2d6-ff47-4d00-9922-3e29595cbb88",
   "metadata": {},
   "source": [
    "### Helper Functions"
   ]
  },
  {
   "cell_type": "markdown",
   "id": "30515c6a-3581-46f2-977e-3a120556094f",
   "metadata": {},
   "source": [
    "To keep the production function clean and easy to read, we'll prepare some helper functions. First we need a dictionary of the split peptide fragments with their full peptide name, since we'll need to retain that for the final output."
   ]
  },
  {
   "cell_type": "code",
   "execution_count": 24,
   "id": "c1748c4a-00b6-4464-ad90-0668dd20c8c3",
   "metadata": {},
   "outputs": [],
   "source": [
    "def read_peptides(peptide_tsv_filepath):\n",
    "    \"\"\"\n",
    "    Takes in a tsv file of peptide fragments and grabs the ones that have modified amino\n",
    "    acids. Returns a dictionary of the full, original peptide fragment paired with a\n",
    "    list containing sections of the peptide separated upon a modified amino acid.\n",
    "    \"\"\"\n",
    "    # Read in data from the input file and keep lines containing modded aminos,\n",
    "    # designated by (UniMod:XX) where XX is a number, and clean newline\n",
    "    peptidesPTM = []\n",
    "    with open('./data/input.tsv') as f:\n",
    "        for line in f:\n",
    "            if 'UniMod' in line:\n",
    "                peptidesPTM.append(line.rstrip())\n",
    "    \n",
    "    # To get the acid sequences without the (UniMod:XX), split on '(' then\n",
    "    # remove 'UniMod:XX)' from the beginning of the following section\n",
    "    peptides_dict = {}\n",
    "    for peptide in peptidesPTM:\n",
    "        search_strs = peptide.split('(')\n",
    "        for idx, search_str in enumerate(search_strs):\n",
    "            if 'Uni' in search_str:\n",
    "                close_loc = search_str.find(')')\n",
    "                search_strs[idx] = search_str[close_loc+1:]\n",
    "        peptides_dict.update({peptide: search_strs})\n",
    "    \n",
    "    return peptides_dict"
   ]
  },
  {
   "cell_type": "code",
   "execution_count": 25,
   "id": "f8e17b6a-cf90-479c-b979-5acade987877",
   "metadata": {},
   "outputs": [],
   "source": [
    "peptides_dict = read_peptides('./data/input.tsv')"
   ]
  },
  {
   "cell_type": "code",
   "execution_count": 26,
   "id": "41a2959d-a432-4517-a9ef-1189cbd87578",
   "metadata": {},
   "outputs": [
    {
     "data": {
      "text/plain": [
       "{'DN(UniMod:5)SVHWERPQKPK': ['DN', 'SVHWERPQKPK'],\n",
       " 'DVFFG(UniMod:6)PK': ['DVFFG', 'PK'],\n",
       " 'FKDLGEEN(UniMod:5)FK': ['FKDLGEEN', 'FK'],\n",
       " 'IQHC(UniMod:4)KKLSSWVLLM(UniMod:35)K': ['IQHC', 'KKLSSWVLLM', 'K'],\n",
       " 'L(UniMod:7)AEYHAKATEHLSTLSEK': ['L', 'AEYHAKATEHLSTLSEK'],\n",
       " 'L(UniMod:7)DGKFSVVYAK': ['L', 'DGKFSVVYAK'],\n",
       " 'L(UniMod:7)G(UniMod:6)G(UniMod:6)HLDAK': ['L', 'G', 'G', 'HLDAK'],\n",
       " 'L(UniMod:7)SKELQAAQAR': ['L', 'SKELQAAQAR'],\n",
       " 'N(UniMod:5)KFDPSLTQR': ['N', 'KFDPSLTQR'],\n",
       " 'AL(UniMod:7)HPEEDPEGR': ['AL', 'HPEEDPEGR'],\n",
       " 'ITGKPIKL(UniMod:7)TQVEHR': ['ITGKPIKL', 'TQVEHR'],\n",
       " 'IYISG(UniMod:6)MAPRPSLAKK': ['IYISG', 'MAPRPSLAKK'],\n",
       " 'IHWESASL(UniMod:7)L(UniMod:7)R': ['IHWESASL', 'L', 'R'],\n",
       " 'ALHPEEDPEG(UniMod:6)R': ['ALHPEEDPEG', 'R'],\n",
       " 'FKDL(UniMod:7)GEENFKALVL(UniMod:7)IAFAQYLQQC(UniMod:4)PFEDHVK': ['FKDL',\n",
       "  'GEENFKALVL',\n",
       "  'IAFAQYLQQC',\n",
       "  'PFEDHVK'],\n",
       " 'ILGGHL(UniMod:7)DAK': ['ILGGHL', 'DAK'],\n",
       " 'AL(UniMod:7)HPEEDPEGRQGR': ['AL', 'HPEEDPEGRQGR'],\n",
       " 'ITG(UniMod:6)KPIKL(UniMod:7)TQVEHR': ['ITG', 'KPIKL', 'TQVEHR'],\n",
       " 'IIYKEN(UniMod:5)ERFQYK': ['IIYKEN', 'ERFQYK'],\n",
       " 'IHWESASL(UniMod:7)LR': ['IHWESASL', 'LR'],\n",
       " 'LG(UniMod:6)G(UniMod:6)HLDAK': ['LG', 'G', 'HLDAK'],\n",
       " 'FKDLG(UniMod:6)EENFKALVLIAFAQYLQQC(UniMod:4)PFEDHVK': ['FKDLG',\n",
       "  'EENFKALVLIAFAQYLQQC',\n",
       "  'PFEDHVK'],\n",
       " 'FKDL(UniMod:7)GEENFK': ['FKDL', 'GEENFK'],\n",
       " 'FRIEDGFSL(UniMod:7)K': ['FRIEDGFSL', 'K'],\n",
       " 'IHL(UniMod:7)MAGR': ['IHL', 'MAGR'],\n",
       " 'KLSSWVLL(UniMod:7)MK': ['KLSSWVLL', 'MK'],\n",
       " 'L(UniMod:7)GGHL(UniMod:7)DAK': ['L', 'GGHL', 'DAK'],\n",
       " 'L(UniMod:7)SKEL(UniMod:7)QAAQAR': ['L', 'SKEL', 'QAAQAR'],\n",
       " 'IYISGMAPRPSL(UniMod:7)AKK': ['IYISGMAPRPSL', 'AKK'],\n",
       " 'IL(UniMod:7)GGHL(UniMod:7)DAK': ['IL', 'GGHL', 'DAK'],\n",
       " 'NKFDPSL(UniMod:7)TQR': ['NKFDPSL', 'TQR'],\n",
       " 'L(UniMod:7)DG(UniMod:6)KFSVVYAK': ['L', 'DG', 'KFSVVYAK'],\n",
       " 'FKDL(UniMod:7)G(UniMod:6)EENFK': ['FKDL', 'G', 'EENFK'],\n",
       " 'L(UniMod:7)AEYHAKATEHLSTL(UniMod:7)SEK': ['L', 'AEYHAKATEHLSTL', 'SEK'],\n",
       " 'L(UniMod:7)GGHLDAK': ['L', 'GGHLDAK'],\n",
       " 'LSKEL(UniMod:7)QAAQAR': ['LSKEL', 'QAAQAR'],\n",
       " 'ILG(UniMod:6)G(UniMod:6)HLDAK': ['ILG', 'G', 'HLDAK'],\n",
       " 'IYISG(UniMod:6)MAPR': ['IYISG', 'MAPR'],\n",
       " 'FRIEDG(UniMod:6)FSLKEQL(UniMod:7)QDMGL(UniMod:7)VDL(UniMod:7)FSPEK': ['FRIEDG',\n",
       "  'FSLKEQL',\n",
       "  'QDMGL',\n",
       "  'VDL',\n",
       "  'FSPEK'],\n",
       " 'FKDLG(UniMod:6)EENFK': ['FKDLG', 'EENFK'],\n",
       " 'IQHC(UniMod:4)KKL(UniMod:7)SSWVLLM(UniMod:35)K': ['IQHC',\n",
       "  'KKL',\n",
       "  'SSWVLLM',\n",
       "  'K'],\n",
       " 'FKDLGEENFKAL(UniMod:7)VLIAFAQYL(UniMod:7)QQC(UniMod:4)PFEDHVK': ['FKDLGEENFKAL',\n",
       "  'VLIAFAQYL',\n",
       "  'QQC',\n",
       "  'PFEDHVK'],\n",
       " 'IYISG(UniMod:6)MAPRPSLAK': ['IYISG', 'MAPRPSLAK'],\n",
       " 'FRIEDGFSLKEQL(UniMod:7)QDMGL(UniMod:7)VDL(UniMod:7)FSPEK': ['FRIEDGFSLKEQL',\n",
       "  'QDMGL',\n",
       "  'VDL',\n",
       "  'FSPEK']}"
      ]
     },
     "execution_count": 26,
     "metadata": {},
     "output_type": "execute_result"
    }
   ],
   "source": [
    "peptides_dict"
   ]
  },
  {
   "cell_type": "markdown",
   "id": "aee05b60-2c8a-4890-b78c-09db6107f754",
   "metadata": {},
   "source": [
    "Okay, now we'll need to do the same for proteins, a dictionary of the full name with its sequence."
   ]
  },
  {
   "cell_type": "code",
   "execution_count": 27,
   "id": "87dd048b-4082-432d-9ca1-73baf0588fe2",
   "metadata": {},
   "outputs": [],
   "source": [
    "def read_proteins(protein_fasta):\n",
    "    \"\"\"\n",
    "    Takes in a file of protein sequences in the standard fasta format and returns\n",
    "    a dictionary where the protein name is paired with the full sequence.\n",
    "    \"\"\"\n",
    "    # Read in protein data. Lines containing '>' give a protein name, followed\n",
    "    # by one or more lines with letter based amino acid sequences, so add them to\n",
    "    # the sequence until the reader comes upon a new protein name.\n",
    "    proteins = {}\n",
    "    with open('./data/proteins.fasta') as f:\n",
    "        for line in f:\n",
    "            if '>' in line:\n",
    "                line = line.replace('>','').rstrip()\n",
    "                current_protein = line\n",
    "                proteins[current_protein] = ''\n",
    "            else:\n",
    "                proteins[current_protein] += line.rstrip()\n",
    "    return proteins"
   ]
  },
  {
   "cell_type": "code",
   "execution_count": 28,
   "id": "cb1e632d-a63c-41f5-ab11-0d37c4112f32",
   "metadata": {},
   "outputs": [],
   "source": [
    "proteins_dict = read_proteins('./data/proteins.fasta')"
   ]
  },
  {
   "cell_type": "code",
   "execution_count": 29,
   "id": "49757683-9171-4698-89c6-1dded18ede3c",
   "metadata": {},
   "outputs": [
    {
     "data": {
      "text/plain": [
       "{'O75711': 'MKLMVLVFTIGLTLLLGVQAMPANRLSCYRKILKDHNCHNLPEGVADLTQIDVNVQDHFWDGKGCEMICYCNFSELLCCPKDVFFGPKISFVIPCNNQ',\n",
       " 'P00738': 'MSALGAVIALLLWGQLFAVDSGNDVTDIADDGCPKPPEIAHGYVEHSVRYQCKNYYKLRTEGDGVYTLNDKKQWINKAVGDKLPECEADDGCPKPPEIAHGYVEHSVRYQCKNYYKLRTEGDGVYTLNNEKQWINKAVGDKLPECEAVCGKPKNPANPVQRILGGHLDAKGSFPWQAKMVSHHNLTTGATLINEQWLLTTAKNLFLNHSENATAKDIAPTLTLYVGKKQLVEIEKVVLHPNYSQVDIGLIKLKQKVSVNERVMPICLPSKDYAEVGRVGYVSGWGRNANFKFTDHLKYVMLPVADQDQCIRHYEGSTVPEKKTPKSPVGVQPILNEHTFCAGMSKYQEDTCYGDAGSAFAVHDLEEDTWYATGILSFDKSCAVAEYGVYVKVTSIQDWVQKTIAEN',\n",
       " 'P00739': 'MSDLGAVISLLLWGRQLFALYSGNDVTDISDDRFPKPPEIANGYVEHLFRYQCKNYYRLRTEGDGVYTLNDKKQWINKAVGDKLPECEAVCGKPKNPANPVQRILGGHLDAKGSFPWQAKMVSHHNLTTGATLINEQWLLTTAKNLFLNHSENATAKDIAPTLTLYVGKKQLVEIEKVVLHPNYHQVDIGLIKLKQKVLVNERVMPICLPSKNYAEVGRVGYVSGWGQSDNFKLTDHLKYVMLPVADQYDCITHYEGSTCPKWKAPKSPVGVQPILNEHTFCVGMSKYQEDTCYGDAGSAFAVHDLEEDTWYAAGILSFDKSCAVAEYGVYVKVTSIQHWVQKTIAEN',\n",
       " 'P01008': 'MYSNVIGTVTSGKRKVYLLSLLLIGFWDCVTCHGSPVDICTAKPRDIPMNPMCIYRSPEKKATEDEGSEQKIPEATNRRVWELSKANSRFATTFYQHLADSKNDNDNIFLSPLSISTAFAMTKLGACNDTLQQLMEVFKFDTISEKTSDQIHFFFAKLNCRLYRKANKSSKLVSANRLFGDKSLTFNETYQDISELVYGAKLQPLDFKENAEQSRAAINKWVSNKTEGRITDVIPSEAINELTVLVLVNTIYFKGLWKSKFSPENTRKELFYKADGESCSASMMYQEGKFRYRRVAEGTQVLELPFKGDDITMVLILPKPEKSLAKVEKELTPEVLQEWLDELEEMMLVVHMPRFRIEDGFSLKEQLQDMGLVDLFSPEKSKLPGIVAEGRDDLYVSDAFHKAFLEVNEEGSEAAASTAVVIAGRSLNPNRVTFKANRPFLVFIREVPLNTIIFMGRVANPCVK',\n",
       " 'P01009': 'MPSSVSWGILLLAGLCCLVPVSLAEDPQGDAAQKTDTSHHDQDHPTFNKITPNLAEFAFSLYRQLAHQSNSTNIFFSPVSIATAFAMLSLGTKADTHDEILEGLNFNLTEIPEAQIHEGFQELLRTLNQPDSQLQLTTGNGLFLSEGLKLVDKFLEDVKKLYHSEAFTVNFGDTEEAKKQINDYVEKGTQGKIVDLVKELDRDTVFALVNYIFFKGKWERPFEVKDTEEEDFHVDQVTTVKVPMMKRLGMFNIQHCKKLSSWVLLMKYLGNATAIFFLPDEGKLQHLENELTHDIITKFLENEDRRSASLHLPKLSITGTYDLKSVLGQLGITKVFSNGADLSGVTEEAPLKLSKAVHKAVLTIDEKGTEAAGAMFLEAIPMSIPPEVKFNKPFVFLMIEQNTKSPLFMGKVVNPTQK',\n",
       " 'P01023': 'MGKNKLLHPSLVLLLLVLLPTDASVSGKPQYMVLVPSLLHTETTEKGCVLLSYLNETVTVSASLESVRGNRSLFTDLEAENDVLHCVAFAVPKSSSNEEVMFLTVQVKGPTQEFKKRTTVMVKNEDSLVFVQTDKSIYKPGQTVKFRVVSMDENFHPLNELIPLVYIQDPKGNRIAQWQSFQLEGGLKQFSFPLSSEPFQGSYKVVVQKKSGGRTEHPFTVEEFVLPKFEVQVTVPKIITILEEEMNVSVCGLYTYGKPVPGHVTVSICRKYSDASDCHGEDSQAFCEKFSGQLNSHGCFYQQVKTKVFQLKRKEYEMKLHTEAQIQEEGTVVELTGRQSSEITRTITKLSFVKVDSHFRQGIPFFGQVRLVDGKGVPIPNKVIFIRGNEANYYSNATTDEHGLVQFSINTTNVMGTSLTVRVNYKDRSPCYGYQWVSEEHEEAHHTAYLVFSPSKSFVHLEPMSHELPCGHTQTVQAHYILNGGTLLGLKKLSFYYLIMAKGGIVRTGTHGLLVKQEDMKGHFSISIPVKSDIAPVARLLIYAVLPTGDVIGDSAKYDVENCLANKVDLSFSPSQSLPASHAHLRVTAAPQSVCALRAVDQSVLLMKPDAELSASSVYNLLPEKDLTGFPGPLNDQDNEDCINRHNVYINGITYTPVSSTNEKDMYSFLEDMGLKAFTNSKIRKPKMCPQLQQYEMHGPEGLRVGFYESDVMGRGHARLVHVEEPHTETVRKYFPETWIWDLVVVNSAGVAEVGVTVPDTITEWKAGAFCLSEDAGLGISSTASLRAFQPFFVELTMPYSVIRGEAFTLKATVLNYLPKCIRVSVQLEASPAFLAVPVEKEQAPHCICANGRQTVSWAVTPKSLGNVNFTVSAEALESQELCGTEVPSVPEHGRKDTVIKPLLVEPEGLEKETTFNSLLCPSGGEVSEELSLKLPPNVVEESARASVSVLGDILGSAMQNTQNLLQMPYGCGEQNMVLFAPNIYVLDYLNETQQLTPEIKSKAIGYLNTGYQRQLNYKHYDGSYSTFGERYGRNQGNTWLTAFVLKTFAQARAYIFIDEAHITQALIWLSQRQKDNGCFRSSGSLLNNAIKGGVEDEVTLSAYITIALLEIPLTVTHPVVRNALFCLESAWKTAQEGDHGSHVYTKALLAYAFALAGNQDKRKEVLKSLNEEAVKKDNSVHWERPQKPKAPVGHFYEPQAPSAEVEMTSYVLLAYLTAQPAPTSEDLTSATNIVKWITKQQNAQGGFSSTQDTVVALHALSKYGAATFTRTGKAAQVTIQSSGTFSSKFQVDNNNRLLLQQVSLPELPGEYSMKVTGEGCVYLQTSLKYNILPEKEEFPFALGVQTLPQTCDEPKAHTSFQISLSVSYTGSRSASNMAIVDVKMVSGFIPLKPTVKMLERSNHVSRTEVSSNHVLIYLDKVSNQTLSLFFTVLQDVPVRDLKPAIVKVYDYYETDEFAIAEYNAPCSKDLGNA',\n",
       " 'P01024': 'MGPTSGPSLLLLLLTHLPLALGSPMYSIITPNILRLESEETMVLEAHDAQGDVPVTVTVHDFPGKKLVLSSEKTVLTPATNHMGNVTFTIPANREFKSEKGRNKFVTVQATFGTQVVEKVVLVSLQSGYLFIQTDKTIYTPGSTVLYRIFTVNHKLLPVGRTVMVNIENPEGIPVKQDSLSSQNQLGVLPLSWDIPELVNMGQWKIRAYYENSPQQVFSTEFEVKEYVLPSFEVIVEPTEKFYYIYNEKGLEVTITARFLYGKKVEGTAFVIFGIQDGEQRISLPESLKRIPIEDGSGEVVLSRKVLLDGVQNPRAEDLVGKSLYVSATVILHSGSDMVQAERSGIPIVTSPYQIHFTKTPKYFKPGMPFDLMVFVTNPDGSPAYRVPVAVQGEDTVQSLTQGDGVAKLSINTHPSQKPLSITVRTKKQELSEAEQATRTMQALPYSTVGNSNNYLHLSVLRTELRPGETLNVNFLLRMDRAHEAKIRYYTYLIMNKGRLLKAGRQVREPGQDLVVLPLSITTDFIPSFRLVAYYTLIGASGQREVVADSVWVDVKDSCVGSLVVKSGQSEDRQPVPGQQMTLKIEGDHGARVVLVAVDKGVFVLNKKNKLTQSKIWDVVEKADIGCTPGSGKDYAGVFSDAGLTFTSSSGQQTAQRAELQCPQPAARRRRSVQLTEKRMDKVGKYPKELRKCCEDGMRENPMRFSCQRRTRFISLGEACKKVFLDCCNYITELRRQHARASHLGLARSNLDEDIIAEENIVSRSEFPESWLWNVEDLKEPPKNGISTKLMNIFLKDSITTWEILAVSMSDKKGICVADPFEVTVMQDFFIDLRLPYSVVRNEQVEIRAVLYNYRQNQELKVRVELLHNPAFCSLATTKRRHQQTVTIPPKSSLSVPYVIVPLKTGLQEVEVKAAVYHHFISDGVRKSLKVVPEGIRMNKTVAVRTLDPERLGREGVQKEDIPPADLSDQVPDTESETRILLQGTPVAQMTEDAVDAERLKHLIVTPSGCGEQNMIGMTPTVIAVHYLDETEQWEKFGLEKRQGALELIKKGYTQQLAFRQPSSAFAAFVKRAPSTWLTAYVVKVFSLAVNLIAIDSQVLCGAVKWLILEKQKPDGVFQEDAPVIHQEMIGGLRNNNEKDMALTAFVLISLQEAKDICEEQVNSLPGSITKAGDFLEANYMNLQRSYTVAIAGYALAQMGRLKGPLLNKFLTTAKDKNRWEDPGKQLYNVEATSYALLALLQLKDFDFVPPVVRWLNEQRYYGGGYGSTQATFMVFQALAQYQKDAPDHQELNLDVSLQLPSRSSKITHRIHWESASLLRSEETKENEGFTVTAEGKGQGTLSVVTMYHAKAKDQLTCNKFDLKVTIKPAPETEKRPQDAKNTMILEICTRYRGDQDATMSILDISMMTGFAPDTDDLKQLANGVDRYISKYELDKAFSDRNTLIIYLDKVSHSEDDCLAFKVHQYFNVELIQPGAVKVYAYYNLEESCTRFYHPEKEDGKLNKLCRDELCRCAEENCFIQKSDDKVTLEERLDKACEPGVDYVYKTRLVKVQLSNDFDEYIMAIEQTIKSGSDEVQVGQQRTFISPIKCREALKLEEKKHYLMWGLSSDFWGEKPNLSYIIGKDTWVEHWPEEDECQDEENQKQCQDLGAFTESMVVFGCPN',\n",
       " 'P02647': 'MKAAVLTLAVLFLTGSQARHFWQQDEPPQSPWDRVKDLATVYVDVLKDSGRDYVSQFEGSALGKQLNLKLLDNWDSVTSTFSKLREQLGPVTQEFWDNLEKETEGLRQEMSKDLEEVKAKVQPYLDDFQKKWQEEMELYRQKVEPLRAELQEGARQKLHELQEKLSPLGEEMRDRARAHVDALRTHLAPYSDELRQRLAARLEALKENGGARLAEYHAKATEHLSTLSEKAKPALEDLRQGLLPVLESFKVSFLSALEEYTKKLNTQ',\n",
       " 'P02649': 'MKVLWAALLVTFLAGCQAKVEQAVETEPEPELRQQTEWQSGQRWELALGRFWDYLRWVQTLSEQVQEELLSSQVTQELRALMDETMKELKAYKSELEEQLTPVAEETRARLSKELQAAQARLGADMEDVCGRLVQYRGEVQAMLGQSTEELRVRLASHLRKLRKRLLRDADDLQKRLAVYQAGAREGAERGLSAIRERLGPLVEQGRVRAATVGSLAGQPLQERAQAWGERLRARMEEMGSRTRDRLDEVKEQVAEVRAKLEEQAQQIRLQAEAFQARLKSWFEPLVEDMQRQWAGLVEKVQAAVGTSAAPVPSDNH',\n",
       " 'P02765': 'MKSLVLLLCLAQLWGCHSAPHGPGLIYRQPNCDDPETEEAALVAIDYINQNLPWGYKHTLNQIDEVKVWPQQPSGELFEIEIDTLETTCHVLDPTPVARCSVRQLKEHAVEGDCDFQLLKLDGKFSVVYAKCDSSPDSAEDVRKVCQDCPLLAPLNDTRVVHAAKAALAAFNAQNNGSNFQLEEISRAQLVPLPPSTYVEFTVSGTDCVAKEATEAAKCNLLAEKQYGFCKATLSEKLGGAEVAVTCMVFQTQPVSSQPQPEGANEAVPTPVVDPDAPPSPPLGAPGLPPAGSPPDSHVLLAAPPGHQLHRAHYDLRHTFMGVVSLGSPSGEVSHPRKTRTVVQPSVGAAAGPVVPPCPGRIRHFKV',\n",
       " 'P02768': 'MKWVTFISLLFLFSSAYSRGVFRRDAHKSEVAHRFKDLGEENFKALVLIAFAQYLQQCPFEDHVKLVNEVTEFAKTCVADESAENCDKSLHTLFGDKLCTVATLRETYGEMADCCAKQEPERNECFLQHKDDNPNLPRLVRPEVDVMCTAFHDNEETFLKKYLYEIARRHPYFYAPELLFFAKRYKAAFTECCQAADKAACLLPKLDELRDEGKASSAKQRLKCASLQKFGERAFKAWAVARLSQRFPKAEFAEVSKLVTDLTKVHTECCHGDLLECADDRADLAKYICENQDSISSKLKECCEKPLLEKSHCIAEVENDEMPADLPSLAADFVESKDVCKNYAEAKDVFLGMFLYEYARRHPDYSVVLLLRLAKTYETTLEKCCAAADPHECYAKVFDEFKPLVEEPQNLIKQNCELFEQLGEYKFQNALLVRYTKKVPQVSTPTLVEVSRNLGKVGSKCCKHPEAKRMPCAEDYLSVVLNQLCVLHEKTPVSDRVTKCCTESLVNRRPCFSALEVDETYVPKEFNAETFTFHADICTLSEKERQIKKQTALVELVKHKPKATKEQLKAVMDDFAAFVEKCCKADDKETCFAEEGKKLVAASQAALGL',\n",
       " 'P02790': 'MARVLGAPVALGLWSLCWSLAIATPLPPTSAHGNVAEGETKPDPDVTERCSDGWSFDATTLDDNGTMLFFKGEFVWKSHKWDRELISERWKNFPSPVDAAFRQGHNSVFLIKGDKVWVYPPEKKEKGYPKLLQDEFPGIPSPLDAAVECHRGECQAEGVLFFQGDREWFWDLATGTMKERSWPAVGNCSSALRWLGRYYCFQGNQFLRFDPVRGEVPPRYPRDVRDYFMPCPGRGHGHRNGTGHGNSTHHGPEYMRCSPHLVLSALTSDNHGATYAFSGTHYWRLDTSRDGWHSWPIAHQWPQGPSAVDAAFSWEEKLYLVQGTQVYVFLTKGGYTLVSGYPKRLEKEVGTPHGIILDSVDAAFICPGSSRLHIMAGRRLWWLDLKSGAQATWTELPWPHEKVDGALCMEKSLGPNSCSANGPGLYLIHGPNLYCYSDVEKLNAAKALPQPQNVTSLLGCTH',\n",
       " 'P04004': 'MAPLRPLLILALLAWVALADQESCKGRCTEGFNVDKKCQCDELCSYYQSCCTDYTAECKPQVTRGDVFTMPEDEYTVYDDGEEKNNATVHEQVGGPSLTSDLQAQSKGNPEQTPVLKPEEEAPAPEVGASKPEGIDSRPETLHPGRPQPPAEEELCSGKPFDAFTDLKNGSLFAFRGQYCYELDEKAVRPGYPKLIRDVWGIEGPIDAAFTRINCQGKTYLFKGSQYWRFEDGVLDPDYPRNISDGFDGIPDNVDAALALPAHSYSGRERVYFFKGKQYWEYQFQHQPSQEECEGSSLSAVFEHFAMMQRDSWEDIFELLFWGRTSAGTRQPQFISRDWHGVPGQVDAAMAGRIYISGMAPRPSLAKKQRFRHRNRKGYRSQRGHSRGRNQNSRRPSRATWLSLFSSEESNLGANNYDDYRMDWLVPATCEPIQSVFFFSGDKYYRVNLRTRRVDTVDPPYPRSIAQYWLGCPAPGHL',\n",
       " 'P08603': 'MRLLAKIICLMLWAICVAEDCNELPPRRNTEILTGSWSDQTYPEGTQAIYKCRPGYRSLGNVIMVCRKGEWVALNPLRKCQKRPCGHPGDTPFGTFTLTGGNVFEYGVKAVYTCNEGYQLLGEINYRECDTDGWTNDIPICEVVKCLPVTAPENGKIVSSAMEPDREYHFGQAVRFVCNSGYKIEGDEEMHCSDDGFWSKEKPKCVEISCKSPDVINGSPISQKIIYKENERFQYKCNMGYEYSERGDAVCTESGWRPLPSCEEKSCDNPYIPNGDYSPLRIKHRTGDEITYQCRNGFYPATRGNTAKCTSTGWIPAPRCTLKPCDYPDIKHGGLYHENMRRPYFPVAVGKYYSYYCDEHFETPSGSYWDHIHCTQDGWSPAVPCLRKCYFPYLENGYNQNYGRKFVQGKSIDVACHPGYALPKAQTTVTCMENGWSPTPRCIRVKTCSKSSIDIENGFISESQYTYALKEKAKYQCKLGYVTADGETSGSITCGKDGWSAQPTCIKSCDIPVFMNARTKNDFTWFKLNDTLDYECHDGYESNTGSTTGSIVCGYNGWSDLPICYERECELPKIDVHLVPDRKKDQYKVGEVLKFSCKPGFTIVGPNSVQCYHFGLSPDLPICKEQVQSCGPPPELLNGNVKEKTKEEYGHSEVVEYYCNPRFLMKGPNKIQCVDGEWTTLPVCIVEESTCGDIPELEHGWAQLSSPPYYYGDSVEFNCSESFTMIGHRSITCIHGVWTQLPQCVAIDKLKKCKSSNLIILEEHLKNKKEFDHNSNIRYRCRGKEGWIHTVCINGRWDPEVNCSMAQIQLCPPPPQIPNSHNMTTTLNYRDGEKVSVLCQENYLIQEGEEITCKDGRWQSIPLCVEKIPCSQPPQIEHGTINSSRSSQESYAHGTKLSYTCEGGFRISEENETTCYMGKWSSPPQCEGLPCKSPPEISHGVVAHMSDSYQYGEEVTYKCFEGFGIDGPAIAKCLGEKWSHPPSCIKTDCLSLPSFENAIPMGEKKDVYKAGEQVTYTCATYYKMDGASNVTCINSRWTGRPTCRDTSCVNPPTVQNAYIVSRQMSKYPSGERVRYQCRSPYEMFGDEEVMCLNGNWTEPPQCKDSTGKCGPPPPIDNGDITSFPLSVYAPASSVEYQCQNLYQLEGNKRITCRNGQWSEPPKCLHPCVISREIMENYNIALRWTAKQKLYSRTGESVEFVCKRGYRLSSRSHTLRTTCWDGKLEYPTCAKR',\n",
       " 'P08697': 'MALLWGLLVLSWSCLQGPCSVFSPVSAMEPLGRQLTSGPNQEQVSPLTLLKLGNQEPGGQTALKSPPGVCSRDPTPEQTHRLARAMMAFTADLFSLVAQTSTCPNLILSPLSVALALSHLALGAQNHTLQRLQQVLHAGSGPCLPHLLSRLCQDLGPGAFRLAARMYLQKGFPIKEDFLEQSEQLFGAKPVSLTGKQEDDLANINQWVKEATEGKIQEFLSGLPEDTVLLLLNAIHFQGFWRNKFDPSLTQRDSFHLDEQFTVPVEMMQARTYPLRWFLLEQPEIQVAHFPFKNNMSFVVLVPTHFEWNVSQVLANLSWDTLHPPLVWERPTKVRLPKLYLKHQMDLVATLSQLGLQELFQAPDLRGISEQSLVVSGVQHQSTLELSEVGVEAAAATSIAMSRMSLSSFSVNRPFLFFIFEDTTGLPLFVGSVRNPNPSAPRELKEQQDSPGNKDFLQSLKGFPRGDKLFGPDLKLVPPMEEDYPQFGSPK',\n",
       " 'P36955': 'MQALVLLLCIGALLGHSSCQNPASPPEEGSPDPDSTGALVEEEDPFFKVPVNKLAAAVSNFGYDLYRVRSSTSPTTNVLLSPLSVATALSALSLGAEQRTESIIHRALYYDLISSPDIHGTYKELLDTVTAPQKNLKSASRIVFEKKLRIKSSFVAPLEKSYGTRPRVLTGNPRLDLQEINNWVQAQMKGKLARSTKEIPDEISILLLGVAHFKGQWVTKFDSRKTSLEDFYLDEERTVRVPMMSDPKAVLRYGLDSDLSCKIAQLPLTGSMSIIFFLPLKVTQNLTLIEESLTSEFIHDIDRELKTVQAVLTVPKLKLSYEGEVTKSLQEMKLQSLFDSPDFSKITGKPIKLTQVEHRAGFEWNEDGAGTTPSPGLQPAHLTFPLDYHLNQPFIFVLRDTDTGALLFIGKILDPRGP',\n",
       " 'Q5T013': 'MAPLRFSANLSWLFPELSGLPARVRAAGSSGFEAVEVAWPYAETPEALARAAREAGLRLVLINTPPGDQEKGEMGLGAVPGRQAAFREGLEQAVRYAKALGCPRIHLMAGRVPQGADRIAVKAEMEAVFLENLRHAAGVLAQEDLVGLLEPINTRITDPQYFLDTPQQAAAILQKVGRPNLQLQMDIFHWQIMDGNLTGNIREFLPIVGHVQVAQVPGRGEPSSPGELNFPYLFQLLEDEGYKGFVGCEYQPRGDTVEGLSWLRSYWDRRGHPEAGQ',\n",
       " 'Q96GW7': 'MAQLFLPLLAALVLAQAPAALADVLEGDSSEDRAFRVRIAGDAPLQGVLGGALTIPCHVHYLRPPPSRRAVLGSPRVKWTFLSRGREAEVLVARGVRVKVNEAYRFRVALPAYPASLTDVSLALSELRPNDSGIYRCEVQHGIDDSSDAVEVKVKGVVFLYREGSARYAFSFSGAQEACARIGAHIATPEQLYAAYLGGYEQCDAGWLSDQTVRYPIQTPREACYGDMDGFPGVRNYGVVDPDDLYDVYCYAEDLNGELFLGDPPEKLTLEEARAYCQERGAEIATTGQLYAAWDGGLDHCSPGWLADGSVRYPIVTPSQRCGGGLPGVKTLFLFPNQTGFPNKHSRFNVYCFRDSAQPSAIPEASNPASNPASDGLEAIVTVTETLEELQLPQEATESESRGAIYSIPIMEDGGGGSSTPEDPAEAPRTLLEFETQSMVPPTGFSEEEGKALEEEEKYEDEEEKEEEEEEEEVEDEALWAWPSELSSPGPEASLPTEPAAQEESLSQAPARAVLQPGASPLPDGESEASRPPRVHGPPTETLPTPRERNLASPSPSTLVEAREVGEATGGPELSGVPRGESEETGSSEGAPSLLPATRAPEGTRELEAPSEDNSGRTAPAGTSVQAQPVLPTDSASRGGVAVVPASGDCVPSPCHNGGTCLEEEEGVRCLCLPGYGGDLCDVGLRFCNPGWDAFQGACYKHFSTRRSWEEAETQCRMYGAHLASISTPEEQDFINNRYREYQWIGLNDRTIEGDFLWSDGVPLLYENWNPGQPDSYFLSGENCVVMVWHDQGQWSDVPCNYHLSYTCKMGLVSCGPPPELPLAQVFGRPRLRYEVDTVLRYRCREGLAQRNLPLIRCQENGRWEAPQISCVPRRPARALHPEEDPEGRQGRLLGRWKALLIPPSSPMPGP',\n",
       " 'Q9HDB5': 'MHLRIHARRSPPRRPAWTLGIWFLFWGCIVSSVWSSSNVASSSSTSSSPGSHSQHEHHFHGSKHHSVPISIYRSPVSLRGGHAGATYIFGKSGGLILYTWPANDRPSTRSDRLAVGFSTTVKDGILVRIDSAPGLGDFLQLHIEQGKIGVVFNIGTVDISIKEERTPVNDGKYHVVRFTRNGGNATLQVDNWPVNEHYPTGRQLTIFNTQAQIAIGGKDKGRLFQGQLSGLYYDGLKVLNMAAENNPNIKINGSVRLVGEVPSILGTTQTTSMPPEMSTTVMETTTTMATTTTRKNRSTASIQPTSDDLVSSAECSSDDEDFVECEPSTGGELVIPLLVEDPLATPPIATRAPSITLPPTFRPLLTIIETTKDSLSMTSEAGLPCLSDQGSDGCDDDGLVISGYGSGETFDSNLPPTDDEDFYTTFSLVTDKSLSTSIFEGGYKAHAPKWESKDFRPNKVSETSRTTTTSLSPELIRFTASSSSGMVPKLPAGKMNNRDLKPQPDIVLLPLPTAYELDSTKLKSPLITSPMFRNVPTANPTEPGIRRVPGASEVIRESSSTTGMVVGIVAAAALCILILLYAMYKYRNRDEGSYQVDETRNYISNSAQSNGTLMKEKQQSSKSGHKKQKNKDREYYV'}"
      ]
     },
     "execution_count": 29,
     "metadata": {},
     "output_type": "execute_result"
    }
   ],
   "source": [
    "proteins_dict"
   ]
  },
  {
   "cell_type": "markdown",
   "id": "0642d582-da37-40c8-b320-7a8086342b3e",
   "metadata": {},
   "source": [
    "Now, from the two dictionaries, we want to prepare a structure containing the information that will be written to our output file."
   ]
  },
  {
   "cell_type": "code",
   "execution_count": 30,
   "id": "e3b25355-e2c0-40f4-9a21-6a6087042727",
   "metadata": {},
   "outputs": [],
   "source": [
    "def get_PTM_info(peptides_dict,proteins_dict):\n",
    "    \"\"\"\n",
    "    Takes in a peptides_dict, format {FullPeptideName: AminoSections} and\n",
    "    proteins_dict, format {ProteinName: ProteinSequence} and returns a list\n",
    "    [ProteinName,FullPeptideName,ModifiedAminoPositions] where the third item\n",
    "    is a list containing the indices of where all the modified amino acids from\n",
    "    FullPeptideName are found in ProteinName.\n",
    "    \"\"\"\n",
    "    # For each protein and its sequence, check whether any of the peptide\n",
    "    # fragments are found.\n",
    "    PTM_info_list = []\n",
    "    for protein,sequence in proteins_dict.items():\n",
    "        for peptide,acid_secs in peptides_dict.items():\n",
    "            # Create list of locations of modified acids in peptide fragment\n",
    "            mod_idx = -1\n",
    "            locations = []\n",
    "            for s in acid_secs[:-1]:\n",
    "                mod_idx += len(s)\n",
    "                locations.append(mod_idx)\n",
    "            # If full peptide fragment is found in the protein, using the\n",
    "            # locations list, find the modified acid indices and add to info.\n",
    "            # Start from end and work backwards.\n",
    "            sequence_idx = []\n",
    "            full_pep = ''.join(acid_secs)\n",
    "            while full_pep in sequence:\n",
    "                print(f'Found {peptide} in {protein}!')\n",
    "                start = sequence.rfind(full_pep)\n",
    "                for loc in locations:\n",
    "                    sequence_idx.append(start + loc)\n",
    "                sequence = sequence[:start]\n",
    "            if sequence_idx != []:\n",
    "                PTM_info_list.append([protein,peptide,sequence_idx])\n",
    "            \n",
    "    return PTM_info_list"
   ]
  },
  {
   "cell_type": "markdown",
   "id": "3c3f05e0-0485-4e7e-93ad-4bfefc7ab9ba",
   "metadata": {},
   "source": [
    "*Note: I start mod_idx as -1, since using len(s) - 1 for fragments with multiple modded aminos would not return the proper output. This works out since even if the first amino acid has the mod, it will have len(1) resetting the starting idx to zero.*"
   ]
  },
  {
   "cell_type": "code",
   "execution_count": 31,
   "id": "74ae7f86-aaff-426e-83c6-ce6ab29c786b",
   "metadata": {},
   "outputs": [
    {
     "name": "stdout",
     "output_type": "stream",
     "text": [
      "Found DVFFG(UniMod:6)PK in O75711!\n",
      "Found L(UniMod:7)G(UniMod:6)G(UniMod:6)HLDAK in P00738!\n",
      "Found L(UniMod:7)G(UniMod:6)G(UniMod:6)HLDAK in P00739!\n",
      "Found FRIEDGFSL(UniMod:7)K in P01008!\n",
      "Found IQHC(UniMod:4)KKLSSWVLLM(UniMod:35)K in P01009!\n",
      "Found DN(UniMod:5)SVHWERPQKPK in P01023!\n",
      "Found IHWESASL(UniMod:7)L(UniMod:7)R in P01024!\n",
      "Found L(UniMod:7)AEYHAKATEHLSTLSEK in P02647!\n",
      "Found L(UniMod:7)SKELQAAQAR in P02649!\n",
      "Found L(UniMod:7)DGKFSVVYAK in P02765!\n",
      "Found FKDLGEEN(UniMod:5)FK in P02768!\n",
      "Found IYISG(UniMod:6)MAPRPSLAKK in P04004!\n",
      "Found IIYKEN(UniMod:5)ERFQYK in P08603!\n",
      "Found N(UniMod:5)KFDPSLTQR in P08697!\n",
      "Found ITGKPIKL(UniMod:7)TQVEHR in P36955!\n",
      "Found IHL(UniMod:7)MAGR in Q5T013!\n",
      "Found AL(UniMod:7)HPEEDPEGR in Q96GW7!\n"
     ]
    }
   ],
   "source": [
    "info_list = get_PTM_info(peptides_dict,proteins_dict)"
   ]
  },
  {
   "cell_type": "markdown",
   "id": "cebef59e-69df-4e32-bdde-2edfa3848379",
   "metadata": {},
   "source": [
    "Left this print out in the function though it was originally for debugging since it's kind of cool to see, but if it was processing much larger amount of information we'd probably remove it not to be printing out tons of statements."
   ]
  },
  {
   "cell_type": "code",
   "execution_count": 32,
   "id": "54dff978-f11b-499d-8c08-d6e79d53fa26",
   "metadata": {},
   "outputs": [
    {
     "data": {
      "text/plain": [
       "[['O75711', 'DVFFG(UniMod:6)PK', [85]],\n",
       " ['P00738', 'L(UniMod:7)G(UniMod:6)G(UniMod:6)HLDAK', [162, 163, 164]],\n",
       " ['P00739', 'L(UniMod:7)G(UniMod:6)G(UniMod:6)HLDAK', [104, 105, 106]],\n",
       " ['P01008', 'FRIEDGFSL(UniMod:7)K', [362]],\n",
       " ['P01009', 'IQHC(UniMod:4)KKLSSWVLLM(UniMod:35)K', [255, 265]],\n",
       " ['P01023', 'DN(UniMod:5)SVHWERPQKPK', [1178]],\n",
       " ['P01024', 'IHWESASL(UniMod:7)L(UniMod:7)R', [1317, 1318]],\n",
       " ['P02647', 'L(UniMod:7)AEYHAKATEHLSTLSEK', [212]],\n",
       " ['P02649', 'L(UniMod:7)SKELQAAQAR', [110]],\n",
       " ['P02765', 'L(UniMod:7)DGKFSVVYAK', [120]],\n",
       " ['P02768', 'FKDLGEEN(UniMod:5)FK', [41]],\n",
       " ['P04004', 'IYISG(UniMod:6)MAPRPSLAKK', [357]],\n",
       " ['P08603', 'IIYKEN(UniMod:5)ERFQYK', [229]],\n",
       " ['P08697', 'N(UniMod:5)KFDPSLTQR', [242]],\n",
       " ['P36955', 'ITGKPIKL(UniMod:7)TQVEHR', [352]],\n",
       " ['Q5T013', 'IHL(UniMod:7)MAGR', [106]],\n",
       " ['Q96GW7', 'AL(UniMod:7)HPEEDPEGR', [879]]]"
      ]
     },
     "execution_count": 32,
     "metadata": {},
     "output_type": "execute_result"
    }
   ],
   "source": [
    "info_list"
   ]
  },
  {
   "cell_type": "markdown",
   "id": "03596ee3-826d-4c40-bcab-392e0a403cc1",
   "metadata": {},
   "source": [
    "Looks like the desired output, let's test a few cases to verify the returned indices are correct."
   ]
  },
  {
   "cell_type": "code",
   "execution_count": 33,
   "id": "4b9767c7-1304-412e-bfd6-13111afe8fda",
   "metadata": {},
   "outputs": [
    {
     "data": {
      "text/plain": [
       "'MSDLGAVISLLLWGRQLFALYSGNDVTDISDDRFPKPPEIANGYVEHLFRYQCKNYYRLRTEGDGVYTLNDKKQWINKAVGDKLPECEAVCGKPKNPANPVQRILGGHLDAKGSFPWQAKMVSHHNLTTGATLINEQWLLTTAKNLFLNHSENATAKDIAPTLTLYVGKKQLVEIEKVVLHPNYHQVDIGLIKLKQKVLVNERVMPICLPSKNYAEVGRVGYVSGWGQSDNFKLTDHLKYVMLPVADQYDCITHYEGSTCPKWKAPKSPVGVQPILNEHTFCVGMSKYQEDTCYGDAGSAFAVHDLEEDTWYAAGILSFDKSCAVAEYGVYVKVTSIQHWVQKTIAEN'"
      ]
     },
     "execution_count": 33,
     "metadata": {},
     "output_type": "execute_result"
    }
   ],
   "source": [
    "proteins_dict['P00739']"
   ]
  },
  {
   "cell_type": "code",
   "execution_count": 34,
   "id": "eb8e3930-0da0-4582-95a8-8582a773759d",
   "metadata": {},
   "outputs": [
    {
     "data": {
      "text/plain": [
       "'L'"
      ]
     },
     "execution_count": 34,
     "metadata": {},
     "output_type": "execute_result"
    }
   ],
   "source": [
    "proteins_dict['P00739'][104]"
   ]
  },
  {
   "cell_type": "code",
   "execution_count": 35,
   "id": "ef9939c0-2a24-4b5c-b6bc-21544ac766a8",
   "metadata": {},
   "outputs": [
    {
     "data": {
      "text/plain": [
       "'G'"
      ]
     },
     "execution_count": 35,
     "metadata": {},
     "output_type": "execute_result"
    }
   ],
   "source": [
    "proteins_dict['P00739'][105]"
   ]
  },
  {
   "cell_type": "code",
   "execution_count": 36,
   "id": "1c51865e-f34b-4f68-944d-23a6288641bb",
   "metadata": {},
   "outputs": [
    {
     "data": {
      "text/plain": [
       "'G'"
      ]
     },
     "execution_count": 36,
     "metadata": {},
     "output_type": "execute_result"
    }
   ],
   "source": [
    "proteins_dict['P00739'][106]"
   ]
  },
  {
   "cell_type": "code",
   "execution_count": 37,
   "id": "02efb995-1a20-4daa-93e9-38fe20b50ff1",
   "metadata": {},
   "outputs": [
    {
     "data": {
      "text/plain": [
       "'C'"
      ]
     },
     "execution_count": 37,
     "metadata": {},
     "output_type": "execute_result"
    }
   ],
   "source": [
    "proteins_dict['P01009'][255]"
   ]
  },
  {
   "cell_type": "code",
   "execution_count": 38,
   "id": "df974479-8180-4305-b647-92e5acad24b3",
   "metadata": {},
   "outputs": [
    {
     "data": {
      "text/plain": [
       "'M'"
      ]
     },
     "execution_count": 38,
     "metadata": {},
     "output_type": "execute_result"
    }
   ],
   "source": [
    "proteins_dict['P01009'][265]"
   ]
  },
  {
   "cell_type": "markdown",
   "id": "2fe32488-db11-4a7f-90dc-e36d280bbaba",
   "metadata": {},
   "source": [
    "Sweet! Now just a function to write the info to a csv file."
   ]
  },
  {
   "cell_type": "code",
   "execution_count": 39,
   "id": "8d2088a0-6664-41dc-b1c3-987c75cb0345",
   "metadata": {},
   "outputs": [],
   "source": [
    "def write_to_csv(PTM_info_list,output_file_path):\n",
    "    \"\"\"\n",
    "    Takes in a structure containing [ProteinName,FullPeptideName,ModifiedAminoPositions]\n",
    "    and writes it to a csv file at the designated location, including a header.\n",
    "    \"\"\"\n",
    "    with open(output_file_path,mode = 'w') as f:\n",
    "        f.write('ProteinName,FullPeptideName,ModifiedAminoPositions\\n')\n",
    "        for info in PTM_info_list:\n",
    "            idx_as_strs = [ str(num) for num in info[2]]\n",
    "            locations = ';'.join(idx_as_strs)\n",
    "            f.write(f'{info[0]},{info[1]},{locations}\\n')\n",
    "            \n",
    "    return"
   ]
  },
  {
   "cell_type": "code",
   "execution_count": 40,
   "id": "c63b513b-6266-4ddc-a038-370b2888d7f9",
   "metadata": {},
   "outputs": [],
   "source": [
    "write_to_csv(info_list,'./data/output.csv')"
   ]
  },
  {
   "cell_type": "markdown",
   "id": "c6f8d53a-b0b4-45b9-b152-0bdfc08d7f1f",
   "metadata": {},
   "source": [
    "Output file looks good."
   ]
  },
  {
   "cell_type": "markdown",
   "id": "e77f674e-765d-437a-bfef-81f42a0e7848",
   "metadata": {},
   "source": [
    "## A Final Function"
   ]
  },
  {
   "cell_type": "markdown",
   "id": "c4a8ffe6-6dd7-44aa-9b77-4bd7c8febf20",
   "metadata": {},
   "source": [
    "A function that could be used in production to get PTM locations in protein sequences."
   ]
  },
  {
   "cell_type": "code",
   "execution_count": 41,
   "id": "c2b4364d-e614-40e5-a002-1c402385b471",
   "metadata": {},
   "outputs": [],
   "source": [
    "def find_PTMs(peptide_tsv_filepath,protein_fasta_filepath,output_filepath):\n",
    "    \"\"\"\n",
    "    Takes in filepaths for a .tsv file containing peptide fragments and a .fasta\n",
    "    file containing protein names and sequences in fasta format, as well as a\n",
    "    path for the output file. The output file is a .csv file with columns\n",
    "    [ProteinName,FullPeptideName,ModifiedAminoPositions] such that a row contains\n",
    "    which FullPeptideName is found in ProteinName, and where the \n",
    "    ModifiedAminoPositions are found in the protein sequence of ProteinName.\n",
    "    \"\"\"\n",
    "    peptides_dict = read_peptides(peptide_tsv_filepath)\n",
    "    proteins_dict = read_proteins(protein_fasta_filepath)\n",
    "    \n",
    "    PTM_info_list = get_PTM_info(peptides_dict,proteins_dict)\n",
    "    \n",
    "    write_to_csv(PTM_info_list,output_filepath)\n",
    "    \n",
    "    print(f'Saved file to {output_filepath}')\n",
    "    \n",
    "    return            "
   ]
  },
  {
   "cell_type": "code",
   "execution_count": 42,
   "id": "ee5e08f4-0e9f-48ae-b6dc-031cb3455e28",
   "metadata": {},
   "outputs": [
    {
     "name": "stdout",
     "output_type": "stream",
     "text": [
      "Found DVFFG(UniMod:6)PK in O75711!\n",
      "Found L(UniMod:7)G(UniMod:6)G(UniMod:6)HLDAK in P00738!\n",
      "Found L(UniMod:7)G(UniMod:6)G(UniMod:6)HLDAK in P00739!\n",
      "Found FRIEDGFSL(UniMod:7)K in P01008!\n",
      "Found IQHC(UniMod:4)KKLSSWVLLM(UniMod:35)K in P01009!\n",
      "Found DN(UniMod:5)SVHWERPQKPK in P01023!\n",
      "Found IHWESASL(UniMod:7)L(UniMod:7)R in P01024!\n",
      "Found L(UniMod:7)AEYHAKATEHLSTLSEK in P02647!\n",
      "Found L(UniMod:7)SKELQAAQAR in P02649!\n",
      "Found L(UniMod:7)DGKFSVVYAK in P02765!\n",
      "Found FKDLGEEN(UniMod:5)FK in P02768!\n",
      "Found IYISG(UniMod:6)MAPRPSLAKK in P04004!\n",
      "Found IIYKEN(UniMod:5)ERFQYK in P08603!\n",
      "Found N(UniMod:5)KFDPSLTQR in P08697!\n",
      "Found ITGKPIKL(UniMod:7)TQVEHR in P36955!\n",
      "Found IHL(UniMod:7)MAGR in Q5T013!\n",
      "Found AL(UniMod:7)HPEEDPEGR in Q96GW7!\n",
      "Saved file to ./data/output.csv\n"
     ]
    }
   ],
   "source": [
    "find_PTMs('./data/input.tsv','./data/proteins.fasta','./data/output.csv')"
   ]
  },
  {
   "cell_type": "markdown",
   "id": "602f49fe-c29b-4d7c-bfd3-ab5f7b6a75eb",
   "metadata": {},
   "source": [
    "Sweet!"
   ]
  }
 ],
 "metadata": {
  "kernelspec": {
   "display_name": "learn-env",
   "language": "python",
   "name": "learn-env"
  },
  "language_info": {
   "codemirror_mode": {
    "name": "ipython",
    "version": 3
   },
   "file_extension": ".py",
   "mimetype": "text/x-python",
   "name": "python",
   "nbconvert_exporter": "python",
   "pygments_lexer": "ipython3",
   "version": "3.8.5"
  },
  "toc-autonumbering": false,
  "toc-showmarkdowntxt": true
 },
 "nbformat": 4,
 "nbformat_minor": 5
}
