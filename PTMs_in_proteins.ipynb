{
 "cells": [
  {
   "cell_type": "code",
   "execution_count": 52,
   "id": "b5f8cd0f-257f-48ce-8f20-0608b3ea405b",
   "metadata": {},
   "outputs": [],
   "source": [
    "peptidesPTM = []\n",
    "with open('./data/input.tsv') as f:\n",
    "    for line in f:\n",
    "        if 'UniMod' in line:\n",
    "            peptidesPTM.append(line)"
   ]
  },
  {
   "cell_type": "code",
   "execution_count": 53,
   "id": "c6d97604-6907-49eb-b920-f5578cd7b691",
   "metadata": {},
   "outputs": [
    {
     "data": {
      "text/plain": [
       "['DN(UniMod:5)SVHWERPQKPK\\n',\n",
       " 'DVFFG(UniMod:6)PK\\n',\n",
       " 'FKDLGEEN(UniMod:5)FK\\n',\n",
       " 'IQHC(UniMod:4)KKLSSWVLLM(UniMod:35)K\\n',\n",
       " 'L(UniMod:7)AEYHAKATEHLSTLSEK\\n']"
      ]
     },
     "execution_count": 53,
     "metadata": {},
     "output_type": "execute_result"
    }
   ],
   "source": [
    "peptidesPTM[:5]"
   ]
  },
  {
   "cell_type": "code",
   "execution_count": 57,
   "id": "66ad6101-f156-46b1-8487-1edc7fb4efbc",
   "metadata": {},
   "outputs": [],
   "source": [
    "peptidesPTM = [peptide.rstrip() for peptide in peptidesPTM]"
   ]
  },
  {
   "cell_type": "code",
   "execution_count": 58,
   "id": "f708e56e-7c1b-42d3-af97-a0484deb1964",
   "metadata": {},
   "outputs": [
    {
     "data": {
      "text/plain": [
       "['DN(UniMod:5)SVHWERPQKPK',\n",
       " 'DVFFG(UniMod:6)PK',\n",
       " 'FKDLGEEN(UniMod:5)FK',\n",
       " 'IQHC(UniMod:4)KKLSSWVLLM(UniMod:35)K',\n",
       " 'L(UniMod:7)AEYHAKATEHLSTLSEK']"
      ]
     },
     "execution_count": 58,
     "metadata": {},
     "output_type": "execute_result"
    }
   ],
   "source": [
    "peptidesPTM[:5]"
   ]
  },
  {
   "cell_type": "code",
   "execution_count": 79,
   "id": "2377f437-ea16-4609-8f01-cff56990a0a9",
   "metadata": {},
   "outputs": [],
   "source": [
    "test_peptide = peptidesPTM[3]"
   ]
  },
  {
   "cell_type": "code",
   "execution_count": 102,
   "id": "5eb5112b-f29a-47df-9bb7-9e5810fac54a",
   "metadata": {},
   "outputs": [
    {
     "data": {
      "text/plain": [
       "2"
      ]
     },
     "execution_count": 102,
     "metadata": {},
     "output_type": "execute_result"
    }
   ],
   "source": [
    "test_peptide.find('HC')"
   ]
  },
  {
   "cell_type": "code",
   "execution_count": 100,
   "id": "bd48504f-510e-47e0-977e-bd625c671a95",
   "metadata": {},
   "outputs": [],
   "source": [
    "search_strs = test_peptide.split('(')\n",
    "for idx, search_str in enumerate(search_strs):\n",
    "    if 'Uni' in search_str:\n",
    "        close_loc = search_str.find(')')\n",
    "        search_strs[idx] = search_str[close_loc+1:]        "
   ]
  },
  {
   "cell_type": "code",
   "execution_count": 101,
   "id": "e4b6293e-236c-4201-8524-a148869d00f4",
   "metadata": {},
   "outputs": [
    {
     "data": {
      "text/plain": [
       "['IQHC', 'KKLSSWVLLM', 'K']"
      ]
     },
     "execution_count": 101,
     "metadata": {},
     "output_type": "execute_result"
    }
   ],
   "source": [
    "search_strs"
   ]
  },
  {
   "cell_type": "code",
   "execution_count": 63,
   "id": "2eab455b-3b10-4c92-a079-171a6a1fc88c",
   "metadata": {},
   "outputs": [],
   "source": [
    "proteins = {}\n",
    "with open('./data/proteins.fasta') as f:\n",
    "    for line in f:\n",
    "        if '>' in line:\n",
    "            line = line.replace('>','').rstrip()\n",
    "            current_protein = line\n",
    "            proteins[current_protein] = ''\n",
    "        else:\n",
    "            proteins[current_protein] += line.rstrip()"
   ]
  },
  {
   "cell_type": "code",
   "execution_count": 69,
   "id": "305790af-6403-46a0-a734-cd0b8c11eb16",
   "metadata": {},
   "outputs": [
    {
     "data": {
      "text/plain": [
       "True"
      ]
     },
     "execution_count": 69,
     "metadata": {},
     "output_type": "execute_result"
    }
   ],
   "source": [
    "proteins['O75711'] == 'MKLMVLVFTIGLTLLLGVQAMPANRLSCYRKILKDHNCHNLPEGVADLTQIDVNVQDHFWDGKGCEMICYCNFSELLCCPKDVFFGPKISFVIPCNNQ'"
   ]
  },
  {
   "cell_type": "code",
   "execution_count": 229,
   "id": "fc9e065e-75ed-4dcc-a5f0-81ae8f755c9a",
   "metadata": {},
   "outputs": [
    {
     "name": "stdout",
     "output_type": "stream",
     "text": [
      "Found in O75711!\n"
     ]
    }
   ],
   "source": [
    "for protein,sequence in proteins.items():\n",
    "    if 'DVFFGPK' in sequence:\n",
    "        print(f'Found in {protein}!')"
   ]
  },
  {
   "cell_type": "code",
   "execution_count": 242,
   "id": "3cfba4ca-90ca-4fc7-b4ac-0bb21f6c5c91",
   "metadata": {},
   "outputs": [
    {
     "data": {
      "text/plain": [
       "'G'"
      ]
     },
     "execution_count": 242,
     "metadata": {},
     "output_type": "execute_result"
    }
   ],
   "source": [
    "proteins['O75711'][85]"
   ]
  },
  {
   "cell_type": "code",
   "execution_count": 231,
   "id": "4ff55729-5603-4be2-9ee8-83d9b023a1fb",
   "metadata": {},
   "outputs": [
    {
     "data": {
      "text/plain": [
       "81"
      ]
     },
     "execution_count": 231,
     "metadata": {},
     "output_type": "execute_result"
    }
   ],
   "source": [
    "proteins['O75711'].find('DVFFGPK')"
   ]
  },
  {
   "cell_type": "code",
   "execution_count": 233,
   "id": "18ad1d93-d41a-4e5a-a98b-b4d6896ff3c3",
   "metadata": {},
   "outputs": [
    {
     "data": {
      "text/plain": [
       "['MKLMVLVFTIGLTLLLGVQAMPANRLSCYRKILKDHNCHNLPEGVADLTQIDVNVQDHFWDGKGCEMICYCNFSELLCCPK',\n",
       " 'PKISFVIPCNNQ']"
      ]
     },
     "execution_count": 233,
     "metadata": {},
     "output_type": "execute_result"
    }
   ],
   "source": [
    "this_prot_sections = proteins['O75711'].split('DVFFG')\n",
    "this_prot_sections"
   ]
  },
  {
   "cell_type": "code",
   "execution_count": 235,
   "id": "7638cb52-0495-4714-a57f-45ffa647099f",
   "metadata": {},
   "outputs": [
    {
     "data": {
      "text/plain": [
       "81"
      ]
     },
     "execution_count": 235,
     "metadata": {},
     "output_type": "execute_result"
    }
   ],
   "source": [
    "len(this_prot_sections[0])"
   ]
  },
  {
   "cell_type": "code",
   "execution_count": 240,
   "id": "d5b105d7-25f0-4d46-95f5-b1366525865e",
   "metadata": {},
   "outputs": [
    {
     "data": {
      "text/plain": [
       "'K'"
      ]
     },
     "execution_count": 240,
     "metadata": {},
     "output_type": "execute_result"
    }
   ],
   "source": [
    "this_prot_sections[0][80]"
   ]
  },
  {
   "cell_type": "code",
   "execution_count": 215,
   "id": "9c5cae9f-20d9-497c-b880-ce96be5760dd",
   "metadata": {},
   "outputs": [
    {
     "name": "stdout",
     "output_type": "stream",
     "text": [
      "-1\n",
      "-1\n",
      "-1\n"
     ]
    }
   ],
   "source": [
    "for section in this_prot_sections:\n",
    "    print(section.find('SVHWERPQKPK')) "
   ]
  },
  {
   "cell_type": "code",
   "execution_count": 177,
   "id": "f86095c4-bf37-483f-9197-3691fa2fae5c",
   "metadata": {},
   "outputs": [
    {
     "data": {
      "text/plain": [
       "'hel'"
      ]
     },
     "execution_count": 177,
     "metadata": {},
     "output_type": "execute_result"
    }
   ],
   "source": [
    "''.join(['h','e','l'])"
   ]
  },
  {
   "cell_type": "code",
   "execution_count": 196,
   "id": "90294fa8-b7dc-4c8c-a9c6-8aa8c8e75e8b",
   "metadata": {},
   "outputs": [],
   "source": [
    "test_str = 'aksldjhelasdasdlkjsdhelasdjkldfg'"
   ]
  },
  {
   "cell_type": "code",
   "execution_count": 197,
   "id": "1984720e-358d-43f1-9fda-fbe2b82c0402",
   "metadata": {},
   "outputs": [
    {
     "data": {
      "text/plain": [
       "20"
      ]
     },
     "execution_count": 197,
     "metadata": {},
     "output_type": "execute_result"
    }
   ],
   "source": [
    "test_str.rfind('hel')"
   ]
  },
  {
   "cell_type": "code",
   "execution_count": 198,
   "id": "b075680e-a646-4415-a8aa-6dd0af545bbf",
   "metadata": {},
   "outputs": [
    {
     "data": {
      "text/plain": [
       "'aksldjhelasdasdlkjsd'"
      ]
     },
     "execution_count": 198,
     "metadata": {},
     "output_type": "execute_result"
    }
   ],
   "source": [
    "test_str[:20]"
   ]
  },
  {
   "cell_type": "code",
   "execution_count": 199,
   "id": "ec03bf7d-01b0-4143-b7f5-e3548f6c5282",
   "metadata": {},
   "outputs": [
    {
     "name": "stdout",
     "output_type": "stream",
     "text": [
      "20\n",
      "22\n",
      "6\n",
      "8\n"
     ]
    }
   ],
   "source": [
    "locations = []\n",
    "chars = ['h','e','l']\n",
    "locs_in_peptide = [0,2]\n",
    "while ''.join(chars) in test_str:\n",
    "    start = test_str.rfind(''.join(chars))\n",
    "    for loc in locs_in_peptide:\n",
    "        print(start + loc)\n",
    "    test_str = test_str[:start]"
   ]
  },
  {
   "cell_type": "code",
   "execution_count": null,
   "id": "123572a3-1d38-440c-a8b4-294cab844c6a",
   "metadata": {},
   "outputs": [],
   "source": []
  },
  {
   "cell_type": "code",
   "execution_count": null,
   "id": "d00eb1ed-b02d-4483-8d6a-00b20344d147",
   "metadata": {},
   "outputs": [],
   "source": []
  },
  {
   "cell_type": "code",
   "execution_count": null,
   "id": "a5bad45d-e357-4e7a-9254-c5eb5974890d",
   "metadata": {},
   "outputs": [],
   "source": []
  },
  {
   "cell_type": "code",
   "execution_count": null,
   "id": "bfc3c913-116c-438b-8cff-9667e73a07ad",
   "metadata": {},
   "outputs": [],
   "source": []
  },
  {
   "cell_type": "code",
   "execution_count": null,
   "id": "7522a7a9-d287-45d5-948a-549f7c4fcacd",
   "metadata": {},
   "outputs": [],
   "source": []
  },
  {
   "cell_type": "code",
   "execution_count": null,
   "id": "83840333-4fdb-4ea4-974f-887c5c55ccf2",
   "metadata": {},
   "outputs": [],
   "source": []
  },
  {
   "cell_type": "code",
   "execution_count": 155,
   "id": "c1748c4a-00b6-4464-ad90-0668dd20c8c3",
   "metadata": {},
   "outputs": [],
   "source": [
    "def read_peptides(peptide_tsv_filepath):\n",
    "    \"\"\"\n",
    "    Takes in...\n",
    "    \"\"\"\n",
    "    peptidesPTM = []\n",
    "    with open('./data/input.tsv') as f:\n",
    "        for line in f:\n",
    "            if 'UniMod' in line:\n",
    "                peptidesPTM.append(line.rstrip())\n",
    "    \n",
    "    peptides_dict = {}\n",
    "    for peptide in peptidesPTM:\n",
    "        search_strs = peptide.split('(')\n",
    "        for idx, search_str in enumerate(search_strs):\n",
    "            if 'Uni' in search_str:\n",
    "                close_loc = search_str.find(')')\n",
    "                search_strs[idx] = search_str[close_loc+1:]\n",
    "        peptides_dict.update({peptide: search_strs})\n",
    "    \n",
    "    return peptides_dict"
   ]
  },
  {
   "cell_type": "code",
   "execution_count": 156,
   "id": "f8e17b6a-cf90-479c-b979-5acade987877",
   "metadata": {},
   "outputs": [],
   "source": [
    "peptides_dict = read_peptides('./data/input.tsv')"
   ]
  },
  {
   "cell_type": "code",
   "execution_count": 205,
   "id": "41a2959d-a432-4517-a9ef-1189cbd87578",
   "metadata": {},
   "outputs": [
    {
     "data": {
      "text/plain": [
       "{'DN(UniMod:5)SVHWERPQKPK': ['DN', 'SVHWERPQKPK'],\n",
       " 'DVFFG(UniMod:6)PK': ['DVFFG', 'PK'],\n",
       " 'FKDLGEEN(UniMod:5)FK': ['FKDLGEEN', 'FK'],\n",
       " 'IQHC(UniMod:4)KKLSSWVLLM(UniMod:35)K': ['IQHC', 'KKLSSWVLLM', 'K'],\n",
       " 'L(UniMod:7)AEYHAKATEHLSTLSEK': ['L', 'AEYHAKATEHLSTLSEK'],\n",
       " 'L(UniMod:7)DGKFSVVYAK': ['L', 'DGKFSVVYAK'],\n",
       " 'L(UniMod:7)G(UniMod:6)G(UniMod:6)HLDAK': ['L', 'G', 'G', 'HLDAK'],\n",
       " 'L(UniMod:7)SKELQAAQAR': ['L', 'SKELQAAQAR'],\n",
       " 'N(UniMod:5)KFDPSLTQR': ['N', 'KFDPSLTQR'],\n",
       " 'AL(UniMod:7)HPEEDPEGR': ['AL', 'HPEEDPEGR'],\n",
       " 'ITGKPIKL(UniMod:7)TQVEHR': ['ITGKPIKL', 'TQVEHR'],\n",
       " 'IYISG(UniMod:6)MAPRPSLAKK': ['IYISG', 'MAPRPSLAKK'],\n",
       " 'IHWESASL(UniMod:7)L(UniMod:7)R': ['IHWESASL', 'L', 'R'],\n",
       " 'ALHPEEDPEG(UniMod:6)R': ['ALHPEEDPEG', 'R'],\n",
       " 'FKDL(UniMod:7)GEENFKALVL(UniMod:7)IAFAQYLQQC(UniMod:4)PFEDHVK': ['FKDL',\n",
       "  'GEENFKALVL',\n",
       "  'IAFAQYLQQC',\n",
       "  'PFEDHVK'],\n",
       " 'ILGGHL(UniMod:7)DAK': ['ILGGHL', 'DAK'],\n",
       " 'AL(UniMod:7)HPEEDPEGRQGR': ['AL', 'HPEEDPEGRQGR'],\n",
       " 'ITG(UniMod:6)KPIKL(UniMod:7)TQVEHR': ['ITG', 'KPIKL', 'TQVEHR'],\n",
       " 'IIYKEN(UniMod:5)ERFQYK': ['IIYKEN', 'ERFQYK'],\n",
       " 'IHWESASL(UniMod:7)LR': ['IHWESASL', 'LR'],\n",
       " 'LG(UniMod:6)G(UniMod:6)HLDAK': ['LG', 'G', 'HLDAK'],\n",
       " 'FKDLG(UniMod:6)EENFKALVLIAFAQYLQQC(UniMod:4)PFEDHVK': ['FKDLG',\n",
       "  'EENFKALVLIAFAQYLQQC',\n",
       "  'PFEDHVK'],\n",
       " 'FKDL(UniMod:7)GEENFK': ['FKDL', 'GEENFK'],\n",
       " 'FRIEDGFSL(UniMod:7)K': ['FRIEDGFSL', 'K'],\n",
       " 'IHL(UniMod:7)MAGR': ['IHL', 'MAGR'],\n",
       " 'KLSSWVLL(UniMod:7)MK': ['KLSSWVLL', 'MK'],\n",
       " 'L(UniMod:7)GGHL(UniMod:7)DAK': ['L', 'GGHL', 'DAK'],\n",
       " 'L(UniMod:7)SKEL(UniMod:7)QAAQAR': ['L', 'SKEL', 'QAAQAR'],\n",
       " 'IYISGMAPRPSL(UniMod:7)AKK': ['IYISGMAPRPSL', 'AKK'],\n",
       " 'IL(UniMod:7)GGHL(UniMod:7)DAK': ['IL', 'GGHL', 'DAK'],\n",
       " 'NKFDPSL(UniMod:7)TQR': ['NKFDPSL', 'TQR'],\n",
       " 'L(UniMod:7)DG(UniMod:6)KFSVVYAK': ['L', 'DG', 'KFSVVYAK'],\n",
       " 'FKDL(UniMod:7)G(UniMod:6)EENFK': ['FKDL', 'G', 'EENFK'],\n",
       " 'L(UniMod:7)AEYHAKATEHLSTL(UniMod:7)SEK': ['L', 'AEYHAKATEHLSTL', 'SEK'],\n",
       " 'L(UniMod:7)GGHLDAK': ['L', 'GGHLDAK'],\n",
       " 'LSKEL(UniMod:7)QAAQAR': ['LSKEL', 'QAAQAR'],\n",
       " 'ILG(UniMod:6)G(UniMod:6)HLDAK': ['ILG', 'G', 'HLDAK'],\n",
       " 'IYISG(UniMod:6)MAPR': ['IYISG', 'MAPR'],\n",
       " 'FRIEDG(UniMod:6)FSLKEQL(UniMod:7)QDMGL(UniMod:7)VDL(UniMod:7)FSPEK': ['FRIEDG',\n",
       "  'FSLKEQL',\n",
       "  'QDMGL',\n",
       "  'VDL',\n",
       "  'FSPEK'],\n",
       " 'FKDLG(UniMod:6)EENFK': ['FKDLG', 'EENFK'],\n",
       " 'IQHC(UniMod:4)KKL(UniMod:7)SSWVLLM(UniMod:35)K': ['IQHC',\n",
       "  'KKL',\n",
       "  'SSWVLLM',\n",
       "  'K'],\n",
       " 'FKDLGEENFKAL(UniMod:7)VLIAFAQYL(UniMod:7)QQC(UniMod:4)PFEDHVK': ['FKDLGEENFKAL',\n",
       "  'VLIAFAQYL',\n",
       "  'QQC',\n",
       "  'PFEDHVK'],\n",
       " 'IYISG(UniMod:6)MAPRPSLAK': ['IYISG', 'MAPRPSLAK'],\n",
       " 'FRIEDGFSLKEQL(UniMod:7)QDMGL(UniMod:7)VDL(UniMod:7)FSPEK': ['FRIEDGFSLKEQL',\n",
       "  'QDMGL',\n",
       "  'VDL',\n",
       "  'FSPEK']}"
      ]
     },
     "execution_count": 205,
     "metadata": {},
     "output_type": "execute_result"
    }
   ],
   "source": [
    "peptides_dict"
   ]
  },
  {
   "cell_type": "code",
   "execution_count": 108,
   "id": "87dd048b-4082-432d-9ca1-73baf0588fe2",
   "metadata": {},
   "outputs": [],
   "source": [
    "def read_proteins(protein_fasta):\n",
    "    \"\"\"\n",
    "    Takes in...\n",
    "    \"\"\"\n",
    "    proteins = {}\n",
    "    with open('./data/proteins.fasta') as f:\n",
    "        for line in f:\n",
    "            if '>' in line:\n",
    "                line = line.replace('>','').rstrip()\n",
    "                current_protein = line\n",
    "                proteins[current_protein] = ''\n",
    "            else:\n",
    "                proteins[current_protein] += line.rstrip()\n",
    "    return proteins"
   ]
  },
  {
   "cell_type": "code",
   "execution_count": 109,
   "id": "cb1e632d-a63c-41f5-ab11-0d37c4112f32",
   "metadata": {},
   "outputs": [],
   "source": [
    "proteins_dict = read_proteins('./data/proteins.fasta')"
   ]
  },
  {
   "cell_type": "code",
   "execution_count": 204,
   "id": "49757683-9171-4698-89c6-1dded18ede3c",
   "metadata": {},
   "outputs": [
    {
     "data": {
      "text/plain": [
       "{'O75711': 'MKLMVLVFTIGLTLLLGVQAMPANRLSCYRKILKDHNCHNLPEGVADLTQIDVNVQDHFWDGKGCEMICYCNFSELLCCPKDVFFGPKISFVIPCNNQ',\n",
       " 'P00738': 'MSALGAVIALLLWGQLFAVDSGNDVTDIADDGCPKPPEIAHGYVEHSVRYQCKNYYKLRTEGDGVYTLNDKKQWINKAVGDKLPECEADDGCPKPPEIAHGYVEHSVRYQCKNYYKLRTEGDGVYTLNNEKQWINKAVGDKLPECEAVCGKPKNPANPVQRILGGHLDAKGSFPWQAKMVSHHNLTTGATLINEQWLLTTAKNLFLNHSENATAKDIAPTLTLYVGKKQLVEIEKVVLHPNYSQVDIGLIKLKQKVSVNERVMPICLPSKDYAEVGRVGYVSGWGRNANFKFTDHLKYVMLPVADQDQCIRHYEGSTVPEKKTPKSPVGVQPILNEHTFCAGMSKYQEDTCYGDAGSAFAVHDLEEDTWYATGILSFDKSCAVAEYGVYVKVTSIQDWVQKTIAEN',\n",
       " 'P00739': 'MSDLGAVISLLLWGRQLFALYSGNDVTDISDDRFPKPPEIANGYVEHLFRYQCKNYYRLRTEGDGVYTLNDKKQWINKAVGDKLPECEAVCGKPKNPANPVQRILGGHLDAKGSFPWQAKMVSHHNLTTGATLINEQWLLTTAKNLFLNHSENATAKDIAPTLTLYVGKKQLVEIEKVVLHPNYHQVDIGLIKLKQKVLVNERVMPICLPSKNYAEVGRVGYVSGWGQSDNFKLTDHLKYVMLPVADQYDCITHYEGSTCPKWKAPKSPVGVQPILNEHTFCVGMSKYQEDTCYGDAGSAFAVHDLEEDTWYAAGILSFDKSCAVAEYGVYVKVTSIQHWVQKTIAEN',\n",
       " 'P01008': 'MYSNVIGTVTSGKRKVYLLSLLLIGFWDCVTCHGSPVDICTAKPRDIPMNPMCIYRSPEKKATEDEGSEQKIPEATNRRVWELSKANSRFATTFYQHLADSKNDNDNIFLSPLSISTAFAMTKLGACNDTLQQLMEVFKFDTISEKTSDQIHFFFAKLNCRLYRKANKSSKLVSANRLFGDKSLTFNETYQDISELVYGAKLQPLDFKENAEQSRAAINKWVSNKTEGRITDVIPSEAINELTVLVLVNTIYFKGLWKSKFSPENTRKELFYKADGESCSASMMYQEGKFRYRRVAEGTQVLELPFKGDDITMVLILPKPEKSLAKVEKELTPEVLQEWLDELEEMMLVVHMPRFRIEDGFSLKEQLQDMGLVDLFSPEKSKLPGIVAEGRDDLYVSDAFHKAFLEVNEEGSEAAASTAVVIAGRSLNPNRVTFKANRPFLVFIREVPLNTIIFMGRVANPCVK',\n",
       " 'P01009': 'MPSSVSWGILLLAGLCCLVPVSLAEDPQGDAAQKTDTSHHDQDHPTFNKITPNLAEFAFSLYRQLAHQSNSTNIFFSPVSIATAFAMLSLGTKADTHDEILEGLNFNLTEIPEAQIHEGFQELLRTLNQPDSQLQLTTGNGLFLSEGLKLVDKFLEDVKKLYHSEAFTVNFGDTEEAKKQINDYVEKGTQGKIVDLVKELDRDTVFALVNYIFFKGKWERPFEVKDTEEEDFHVDQVTTVKVPMMKRLGMFNIQHCKKLSSWVLLMKYLGNATAIFFLPDEGKLQHLENELTHDIITKFLENEDRRSASLHLPKLSITGTYDLKSVLGQLGITKVFSNGADLSGVTEEAPLKLSKAVHKAVLTIDEKGTEAAGAMFLEAIPMSIPPEVKFNKPFVFLMIEQNTKSPLFMGKVVNPTQK',\n",
       " 'P01023': 'MGKNKLLHPSLVLLLLVLLPTDASVSGKPQYMVLVPSLLHTETTEKGCVLLSYLNETVTVSASLESVRGNRSLFTDLEAENDVLHCVAFAVPKSSSNEEVMFLTVQVKGPTQEFKKRTTVMVKNEDSLVFVQTDKSIYKPGQTVKFRVVSMDENFHPLNELIPLVYIQDPKGNRIAQWQSFQLEGGLKQFSFPLSSEPFQGSYKVVVQKKSGGRTEHPFTVEEFVLPKFEVQVTVPKIITILEEEMNVSVCGLYTYGKPVPGHVTVSICRKYSDASDCHGEDSQAFCEKFSGQLNSHGCFYQQVKTKVFQLKRKEYEMKLHTEAQIQEEGTVVELTGRQSSEITRTITKLSFVKVDSHFRQGIPFFGQVRLVDGKGVPIPNKVIFIRGNEANYYSNATTDEHGLVQFSINTTNVMGTSLTVRVNYKDRSPCYGYQWVSEEHEEAHHTAYLVFSPSKSFVHLEPMSHELPCGHTQTVQAHYILNGGTLLGLKKLSFYYLIMAKGGIVRTGTHGLLVKQEDMKGHFSISIPVKSDIAPVARLLIYAVLPTGDVIGDSAKYDVENCLANKVDLSFSPSQSLPASHAHLRVTAAPQSVCALRAVDQSVLLMKPDAELSASSVYNLLPEKDLTGFPGPLNDQDNEDCINRHNVYINGITYTPVSSTNEKDMYSFLEDMGLKAFTNSKIRKPKMCPQLQQYEMHGPEGLRVGFYESDVMGRGHARLVHVEEPHTETVRKYFPETWIWDLVVVNSAGVAEVGVTVPDTITEWKAGAFCLSEDAGLGISSTASLRAFQPFFVELTMPYSVIRGEAFTLKATVLNYLPKCIRVSVQLEASPAFLAVPVEKEQAPHCICANGRQTVSWAVTPKSLGNVNFTVSAEALESQELCGTEVPSVPEHGRKDTVIKPLLVEPEGLEKETTFNSLLCPSGGEVSEELSLKLPPNVVEESARASVSVLGDILGSAMQNTQNLLQMPYGCGEQNMVLFAPNIYVLDYLNETQQLTPEIKSKAIGYLNTGYQRQLNYKHYDGSYSTFGERYGRNQGNTWLTAFVLKTFAQARAYIFIDEAHITQALIWLSQRQKDNGCFRSSGSLLNNAIKGGVEDEVTLSAYITIALLEIPLTVTHPVVRNALFCLESAWKTAQEGDHGSHVYTKALLAYAFALAGNQDKRKEVLKSLNEEAVKKDNSVHWERPQKPKAPVGHFYEPQAPSAEVEMTSYVLLAYLTAQPAPTSEDLTSATNIVKWITKQQNAQGGFSSTQDTVVALHALSKYGAATFTRTGKAAQVTIQSSGTFSSKFQVDNNNRLLLQQVSLPELPGEYSMKVTGEGCVYLQTSLKYNILPEKEEFPFALGVQTLPQTCDEPKAHTSFQISLSVSYTGSRSASNMAIVDVKMVSGFIPLKPTVKMLERSNHVSRTEVSSNHVLIYLDKVSNQTLSLFFTVLQDVPVRDLKPAIVKVYDYYETDEFAIAEYNAPCSKDLGNA',\n",
       " 'P01024': 'MGPTSGPSLLLLLLTHLPLALGSPMYSIITPNILRLESEETMVLEAHDAQGDVPVTVTVHDFPGKKLVLSSEKTVLTPATNHMGNVTFTIPANREFKSEKGRNKFVTVQATFGTQVVEKVVLVSLQSGYLFIQTDKTIYTPGSTVLYRIFTVNHKLLPVGRTVMVNIENPEGIPVKQDSLSSQNQLGVLPLSWDIPELVNMGQWKIRAYYENSPQQVFSTEFEVKEYVLPSFEVIVEPTEKFYYIYNEKGLEVTITARFLYGKKVEGTAFVIFGIQDGEQRISLPESLKRIPIEDGSGEVVLSRKVLLDGVQNPRAEDLVGKSLYVSATVILHSGSDMVQAERSGIPIVTSPYQIHFTKTPKYFKPGMPFDLMVFVTNPDGSPAYRVPVAVQGEDTVQSLTQGDGVAKLSINTHPSQKPLSITVRTKKQELSEAEQATRTMQALPYSTVGNSNNYLHLSVLRTELRPGETLNVNFLLRMDRAHEAKIRYYTYLIMNKGRLLKAGRQVREPGQDLVVLPLSITTDFIPSFRLVAYYTLIGASGQREVVADSVWVDVKDSCVGSLVVKSGQSEDRQPVPGQQMTLKIEGDHGARVVLVAVDKGVFVLNKKNKLTQSKIWDVVEKADIGCTPGSGKDYAGVFSDAGLTFTSSSGQQTAQRAELQCPQPAARRRRSVQLTEKRMDKVGKYPKELRKCCEDGMRENPMRFSCQRRTRFISLGEACKKVFLDCCNYITELRRQHARASHLGLARSNLDEDIIAEENIVSRSEFPESWLWNVEDLKEPPKNGISTKLMNIFLKDSITTWEILAVSMSDKKGICVADPFEVTVMQDFFIDLRLPYSVVRNEQVEIRAVLYNYRQNQELKVRVELLHNPAFCSLATTKRRHQQTVTIPPKSSLSVPYVIVPLKTGLQEVEVKAAVYHHFISDGVRKSLKVVPEGIRMNKTVAVRTLDPERLGREGVQKEDIPPADLSDQVPDTESETRILLQGTPVAQMTEDAVDAERLKHLIVTPSGCGEQNMIGMTPTVIAVHYLDETEQWEKFGLEKRQGALELIKKGYTQQLAFRQPSSAFAAFVKRAPSTWLTAYVVKVFSLAVNLIAIDSQVLCGAVKWLILEKQKPDGVFQEDAPVIHQEMIGGLRNNNEKDMALTAFVLISLQEAKDICEEQVNSLPGSITKAGDFLEANYMNLQRSYTVAIAGYALAQMGRLKGPLLNKFLTTAKDKNRWEDPGKQLYNVEATSYALLALLQLKDFDFVPPVVRWLNEQRYYGGGYGSTQATFMVFQALAQYQKDAPDHQELNLDVSLQLPSRSSKITHRIHWESASLLRSEETKENEGFTVTAEGKGQGTLSVVTMYHAKAKDQLTCNKFDLKVTIKPAPETEKRPQDAKNTMILEICTRYRGDQDATMSILDISMMTGFAPDTDDLKQLANGVDRYISKYELDKAFSDRNTLIIYLDKVSHSEDDCLAFKVHQYFNVELIQPGAVKVYAYYNLEESCTRFYHPEKEDGKLNKLCRDELCRCAEENCFIQKSDDKVTLEERLDKACEPGVDYVYKTRLVKVQLSNDFDEYIMAIEQTIKSGSDEVQVGQQRTFISPIKCREALKLEEKKHYLMWGLSSDFWGEKPNLSYIIGKDTWVEHWPEEDECQDEENQKQCQDLGAFTESMVVFGCPN',\n",
       " 'P02647': 'MKAAVLTLAVLFLTGSQARHFWQQDEPPQSPWDRVKDLATVYVDVLKDSGRDYVSQFEGSALGKQLNLKLLDNWDSVTSTFSKLREQLGPVTQEFWDNLEKETEGLRQEMSKDLEEVKAKVQPYLDDFQKKWQEEMELYRQKVEPLRAELQEGARQKLHELQEKLSPLGEEMRDRARAHVDALRTHLAPYSDELRQRLAARLEALKENGGARLAEYHAKATEHLSTLSEKAKPALEDLRQGLLPVLESFKVSFLSALEEYTKKLNTQ',\n",
       " 'P02649': 'MKVLWAALLVTFLAGCQAKVEQAVETEPEPELRQQTEWQSGQRWELALGRFWDYLRWVQTLSEQVQEELLSSQVTQELRALMDETMKELKAYKSELEEQLTPVAEETRARLSKELQAAQARLGADMEDVCGRLVQYRGEVQAMLGQSTEELRVRLASHLRKLRKRLLRDADDLQKRLAVYQAGAREGAERGLSAIRERLGPLVEQGRVRAATVGSLAGQPLQERAQAWGERLRARMEEMGSRTRDRLDEVKEQVAEVRAKLEEQAQQIRLQAEAFQARLKSWFEPLVEDMQRQWAGLVEKVQAAVGTSAAPVPSDNH',\n",
       " 'P02765': 'MKSLVLLLCLAQLWGCHSAPHGPGLIYRQPNCDDPETEEAALVAIDYINQNLPWGYKHTLNQIDEVKVWPQQPSGELFEIEIDTLETTCHVLDPTPVARCSVRQLKEHAVEGDCDFQLLKLDGKFSVVYAKCDSSPDSAEDVRKVCQDCPLLAPLNDTRVVHAAKAALAAFNAQNNGSNFQLEEISRAQLVPLPPSTYVEFTVSGTDCVAKEATEAAKCNLLAEKQYGFCKATLSEKLGGAEVAVTCMVFQTQPVSSQPQPEGANEAVPTPVVDPDAPPSPPLGAPGLPPAGSPPDSHVLLAAPPGHQLHRAHYDLRHTFMGVVSLGSPSGEVSHPRKTRTVVQPSVGAAAGPVVPPCPGRIRHFKV',\n",
       " 'P02768': 'MKWVTFISLLFLFSSAYSRGVFRRDAHKSEVAHRFKDLGEENFKALVLIAFAQYLQQCPFEDHVKLVNEVTEFAKTCVADESAENCDKSLHTLFGDKLCTVATLRETYGEMADCCAKQEPERNECFLQHKDDNPNLPRLVRPEVDVMCTAFHDNEETFLKKYLYEIARRHPYFYAPELLFFAKRYKAAFTECCQAADKAACLLPKLDELRDEGKASSAKQRLKCASLQKFGERAFKAWAVARLSQRFPKAEFAEVSKLVTDLTKVHTECCHGDLLECADDRADLAKYICENQDSISSKLKECCEKPLLEKSHCIAEVENDEMPADLPSLAADFVESKDVCKNYAEAKDVFLGMFLYEYARRHPDYSVVLLLRLAKTYETTLEKCCAAADPHECYAKVFDEFKPLVEEPQNLIKQNCELFEQLGEYKFQNALLVRYTKKVPQVSTPTLVEVSRNLGKVGSKCCKHPEAKRMPCAEDYLSVVLNQLCVLHEKTPVSDRVTKCCTESLVNRRPCFSALEVDETYVPKEFNAETFTFHADICTLSEKERQIKKQTALVELVKHKPKATKEQLKAVMDDFAAFVEKCCKADDKETCFAEEGKKLVAASQAALGL',\n",
       " 'P02790': 'MARVLGAPVALGLWSLCWSLAIATPLPPTSAHGNVAEGETKPDPDVTERCSDGWSFDATTLDDNGTMLFFKGEFVWKSHKWDRELISERWKNFPSPVDAAFRQGHNSVFLIKGDKVWVYPPEKKEKGYPKLLQDEFPGIPSPLDAAVECHRGECQAEGVLFFQGDREWFWDLATGTMKERSWPAVGNCSSALRWLGRYYCFQGNQFLRFDPVRGEVPPRYPRDVRDYFMPCPGRGHGHRNGTGHGNSTHHGPEYMRCSPHLVLSALTSDNHGATYAFSGTHYWRLDTSRDGWHSWPIAHQWPQGPSAVDAAFSWEEKLYLVQGTQVYVFLTKGGYTLVSGYPKRLEKEVGTPHGIILDSVDAAFICPGSSRLHIMAGRRLWWLDLKSGAQATWTELPWPHEKVDGALCMEKSLGPNSCSANGPGLYLIHGPNLYCYSDVEKLNAAKALPQPQNVTSLLGCTH',\n",
       " 'P04004': 'MAPLRPLLILALLAWVALADQESCKGRCTEGFNVDKKCQCDELCSYYQSCCTDYTAECKPQVTRGDVFTMPEDEYTVYDDGEEKNNATVHEQVGGPSLTSDLQAQSKGNPEQTPVLKPEEEAPAPEVGASKPEGIDSRPETLHPGRPQPPAEEELCSGKPFDAFTDLKNGSLFAFRGQYCYELDEKAVRPGYPKLIRDVWGIEGPIDAAFTRINCQGKTYLFKGSQYWRFEDGVLDPDYPRNISDGFDGIPDNVDAALALPAHSYSGRERVYFFKGKQYWEYQFQHQPSQEECEGSSLSAVFEHFAMMQRDSWEDIFELLFWGRTSAGTRQPQFISRDWHGVPGQVDAAMAGRIYISGMAPRPSLAKKQRFRHRNRKGYRSQRGHSRGRNQNSRRPSRATWLSLFSSEESNLGANNYDDYRMDWLVPATCEPIQSVFFFSGDKYYRVNLRTRRVDTVDPPYPRSIAQYWLGCPAPGHL',\n",
       " 'P08603': 'MRLLAKIICLMLWAICVAEDCNELPPRRNTEILTGSWSDQTYPEGTQAIYKCRPGYRSLGNVIMVCRKGEWVALNPLRKCQKRPCGHPGDTPFGTFTLTGGNVFEYGVKAVYTCNEGYQLLGEINYRECDTDGWTNDIPICEVVKCLPVTAPENGKIVSSAMEPDREYHFGQAVRFVCNSGYKIEGDEEMHCSDDGFWSKEKPKCVEISCKSPDVINGSPISQKIIYKENERFQYKCNMGYEYSERGDAVCTESGWRPLPSCEEKSCDNPYIPNGDYSPLRIKHRTGDEITYQCRNGFYPATRGNTAKCTSTGWIPAPRCTLKPCDYPDIKHGGLYHENMRRPYFPVAVGKYYSYYCDEHFETPSGSYWDHIHCTQDGWSPAVPCLRKCYFPYLENGYNQNYGRKFVQGKSIDVACHPGYALPKAQTTVTCMENGWSPTPRCIRVKTCSKSSIDIENGFISESQYTYALKEKAKYQCKLGYVTADGETSGSITCGKDGWSAQPTCIKSCDIPVFMNARTKNDFTWFKLNDTLDYECHDGYESNTGSTTGSIVCGYNGWSDLPICYERECELPKIDVHLVPDRKKDQYKVGEVLKFSCKPGFTIVGPNSVQCYHFGLSPDLPICKEQVQSCGPPPELLNGNVKEKTKEEYGHSEVVEYYCNPRFLMKGPNKIQCVDGEWTTLPVCIVEESTCGDIPELEHGWAQLSSPPYYYGDSVEFNCSESFTMIGHRSITCIHGVWTQLPQCVAIDKLKKCKSSNLIILEEHLKNKKEFDHNSNIRYRCRGKEGWIHTVCINGRWDPEVNCSMAQIQLCPPPPQIPNSHNMTTTLNYRDGEKVSVLCQENYLIQEGEEITCKDGRWQSIPLCVEKIPCSQPPQIEHGTINSSRSSQESYAHGTKLSYTCEGGFRISEENETTCYMGKWSSPPQCEGLPCKSPPEISHGVVAHMSDSYQYGEEVTYKCFEGFGIDGPAIAKCLGEKWSHPPSCIKTDCLSLPSFENAIPMGEKKDVYKAGEQVTYTCATYYKMDGASNVTCINSRWTGRPTCRDTSCVNPPTVQNAYIVSRQMSKYPSGERVRYQCRSPYEMFGDEEVMCLNGNWTEPPQCKDSTGKCGPPPPIDNGDITSFPLSVYAPASSVEYQCQNLYQLEGNKRITCRNGQWSEPPKCLHPCVISREIMENYNIALRWTAKQKLYSRTGESVEFVCKRGYRLSSRSHTLRTTCWDGKLEYPTCAKR',\n",
       " 'P08697': 'MALLWGLLVLSWSCLQGPCSVFSPVSAMEPLGRQLTSGPNQEQVSPLTLLKLGNQEPGGQTALKSPPGVCSRDPTPEQTHRLARAMMAFTADLFSLVAQTSTCPNLILSPLSVALALSHLALGAQNHTLQRLQQVLHAGSGPCLPHLLSRLCQDLGPGAFRLAARMYLQKGFPIKEDFLEQSEQLFGAKPVSLTGKQEDDLANINQWVKEATEGKIQEFLSGLPEDTVLLLLNAIHFQGFWRNKFDPSLTQRDSFHLDEQFTVPVEMMQARTYPLRWFLLEQPEIQVAHFPFKNNMSFVVLVPTHFEWNVSQVLANLSWDTLHPPLVWERPTKVRLPKLYLKHQMDLVATLSQLGLQELFQAPDLRGISEQSLVVSGVQHQSTLELSEVGVEAAAATSIAMSRMSLSSFSVNRPFLFFIFEDTTGLPLFVGSVRNPNPSAPRELKEQQDSPGNKDFLQSLKGFPRGDKLFGPDLKLVPPMEEDYPQFGSPK',\n",
       " 'P36955': 'MQALVLLLCIGALLGHSSCQNPASPPEEGSPDPDSTGALVEEEDPFFKVPVNKLAAAVSNFGYDLYRVRSSTSPTTNVLLSPLSVATALSALSLGAEQRTESIIHRALYYDLISSPDIHGTYKELLDTVTAPQKNLKSASRIVFEKKLRIKSSFVAPLEKSYGTRPRVLTGNPRLDLQEINNWVQAQMKGKLARSTKEIPDEISILLLGVAHFKGQWVTKFDSRKTSLEDFYLDEERTVRVPMMSDPKAVLRYGLDSDLSCKIAQLPLTGSMSIIFFLPLKVTQNLTLIEESLTSEFIHDIDRELKTVQAVLTVPKLKLSYEGEVTKSLQEMKLQSLFDSPDFSKITGKPIKLTQVEHRAGFEWNEDGAGTTPSPGLQPAHLTFPLDYHLNQPFIFVLRDTDTGALLFIGKILDPRGP',\n",
       " 'Q5T013': 'MAPLRFSANLSWLFPELSGLPARVRAAGSSGFEAVEVAWPYAETPEALARAAREAGLRLVLINTPPGDQEKGEMGLGAVPGRQAAFREGLEQAVRYAKALGCPRIHLMAGRVPQGADRIAVKAEMEAVFLENLRHAAGVLAQEDLVGLLEPINTRITDPQYFLDTPQQAAAILQKVGRPNLQLQMDIFHWQIMDGNLTGNIREFLPIVGHVQVAQVPGRGEPSSPGELNFPYLFQLLEDEGYKGFVGCEYQPRGDTVEGLSWLRSYWDRRGHPEAGQ',\n",
       " 'Q96GW7': 'MAQLFLPLLAALVLAQAPAALADVLEGDSSEDRAFRVRIAGDAPLQGVLGGALTIPCHVHYLRPPPSRRAVLGSPRVKWTFLSRGREAEVLVARGVRVKVNEAYRFRVALPAYPASLTDVSLALSELRPNDSGIYRCEVQHGIDDSSDAVEVKVKGVVFLYREGSARYAFSFSGAQEACARIGAHIATPEQLYAAYLGGYEQCDAGWLSDQTVRYPIQTPREACYGDMDGFPGVRNYGVVDPDDLYDVYCYAEDLNGELFLGDPPEKLTLEEARAYCQERGAEIATTGQLYAAWDGGLDHCSPGWLADGSVRYPIVTPSQRCGGGLPGVKTLFLFPNQTGFPNKHSRFNVYCFRDSAQPSAIPEASNPASNPASDGLEAIVTVTETLEELQLPQEATESESRGAIYSIPIMEDGGGGSSTPEDPAEAPRTLLEFETQSMVPPTGFSEEEGKALEEEEKYEDEEEKEEEEEEEEVEDEALWAWPSELSSPGPEASLPTEPAAQEESLSQAPARAVLQPGASPLPDGESEASRPPRVHGPPTETLPTPRERNLASPSPSTLVEAREVGEATGGPELSGVPRGESEETGSSEGAPSLLPATRAPEGTRELEAPSEDNSGRTAPAGTSVQAQPVLPTDSASRGGVAVVPASGDCVPSPCHNGGTCLEEEEGVRCLCLPGYGGDLCDVGLRFCNPGWDAFQGACYKHFSTRRSWEEAETQCRMYGAHLASISTPEEQDFINNRYREYQWIGLNDRTIEGDFLWSDGVPLLYENWNPGQPDSYFLSGENCVVMVWHDQGQWSDVPCNYHLSYTCKMGLVSCGPPPELPLAQVFGRPRLRYEVDTVLRYRCREGLAQRNLPLIRCQENGRWEAPQISCVPRRPARALHPEEDPEGRQGRLLGRWKALLIPPSSPMPGP',\n",
       " 'Q9HDB5': 'MHLRIHARRSPPRRPAWTLGIWFLFWGCIVSSVWSSSNVASSSSTSSSPGSHSQHEHHFHGSKHHSVPISIYRSPVSLRGGHAGATYIFGKSGGLILYTWPANDRPSTRSDRLAVGFSTTVKDGILVRIDSAPGLGDFLQLHIEQGKIGVVFNIGTVDISIKEERTPVNDGKYHVVRFTRNGGNATLQVDNWPVNEHYPTGRQLTIFNTQAQIAIGGKDKGRLFQGQLSGLYYDGLKVLNMAAENNPNIKINGSVRLVGEVPSILGTTQTTSMPPEMSTTVMETTTTMATTTTRKNRSTASIQPTSDDLVSSAECSSDDEDFVECEPSTGGELVIPLLVEDPLATPPIATRAPSITLPPTFRPLLTIIETTKDSLSMTSEAGLPCLSDQGSDGCDDDGLVISGYGSGETFDSNLPPTDDEDFYTTFSLVTDKSLSTSIFEGGYKAHAPKWESKDFRPNKVSETSRTTTTSLSPELIRFTASSSSGMVPKLPAGKMNNRDLKPQPDIVLLPLPTAYELDSTKLKSPLITSPMFRNVPTANPTEPGIRRVPGASEVIRESSSTTGMVVGIVAAAALCILILLYAMYKYRNRDEGSYQVDETRNYISNSAQSNGTLMKEKQQSSKSGHKKQKNKDREYYV'}"
      ]
     },
     "execution_count": 204,
     "metadata": {},
     "output_type": "execute_result"
    }
   ],
   "source": [
    "proteins_dict"
   ]
  },
  {
   "cell_type": "code",
   "execution_count": 243,
   "id": "e3b25355-e2c0-40f4-9a21-6a6087042727",
   "metadata": {},
   "outputs": [],
   "source": [
    "def get_PTM_info(peptides_dict,proteins_dict):\n",
    "    \"\"\"\n",
    "    Takes in...\n",
    "    \"\"\"\n",
    "    PTM_info_list = []\n",
    "    for protein,sequence in proteins_dict.items():\n",
    "        for peptide,search_strs in peptides_dict.items():\n",
    "            mod_idx = -1\n",
    "            locations = []\n",
    "            for s in search_strs[:-1]:\n",
    "                mod_idx += len(s)\n",
    "                locations.append(mod_idx)\n",
    "            sequence_idx = []\n",
    "            full_pep = ''.join(search_strs)\n",
    "            while full_pep in sequence:\n",
    "                print(f'Found {peptide} in {protein}!')\n",
    "                start = sequence.rfind(full_pep)\n",
    "                for loc in locations:\n",
    "                    sequence_idx.append(start + loc)\n",
    "                sequence = sequence[:start]\n",
    "            if sequence_idx != []:\n",
    "                PTM_info_list.append([protein,peptide,sequence_idx])\n",
    "            \n",
    "    return PTM_info_list"
   ]
  },
  {
   "cell_type": "code",
   "execution_count": 244,
   "id": "74ae7f86-aaff-426e-83c6-ce6ab29c786b",
   "metadata": {},
   "outputs": [
    {
     "name": "stdout",
     "output_type": "stream",
     "text": [
      "Found DVFFG(UniMod:6)PK in O75711!\n",
      "Found L(UniMod:7)G(UniMod:6)G(UniMod:6)HLDAK in P00738!\n",
      "Found L(UniMod:7)G(UniMod:6)G(UniMod:6)HLDAK in P00739!\n",
      "Found FRIEDGFSL(UniMod:7)K in P01008!\n",
      "Found IQHC(UniMod:4)KKLSSWVLLM(UniMod:35)K in P01009!\n",
      "Found DN(UniMod:5)SVHWERPQKPK in P01023!\n",
      "Found IHWESASL(UniMod:7)L(UniMod:7)R in P01024!\n",
      "Found L(UniMod:7)AEYHAKATEHLSTLSEK in P02647!\n",
      "Found L(UniMod:7)SKELQAAQAR in P02649!\n",
      "Found L(UniMod:7)DGKFSVVYAK in P02765!\n",
      "Found FKDLGEEN(UniMod:5)FK in P02768!\n",
      "Found IYISG(UniMod:6)MAPRPSLAKK in P04004!\n",
      "Found IIYKEN(UniMod:5)ERFQYK in P08603!\n",
      "Found N(UniMod:5)KFDPSLTQR in P08697!\n",
      "Found ITGKPIKL(UniMod:7)TQVEHR in P36955!\n",
      "Found IHL(UniMod:7)MAGR in Q5T013!\n",
      "Found AL(UniMod:7)HPEEDPEGR in Q96GW7!\n"
     ]
    }
   ],
   "source": [
    "info_list = get_PTM_info(peptides_dict,proteins_dict)"
   ]
  },
  {
   "cell_type": "code",
   "execution_count": 245,
   "id": "54dff978-f11b-499d-8c08-d6e79d53fa26",
   "metadata": {},
   "outputs": [
    {
     "data": {
      "text/plain": [
       "[['O75711', 'DVFFG(UniMod:6)PK', [85]],\n",
       " ['P00738', 'L(UniMod:7)G(UniMod:6)G(UniMod:6)HLDAK', [162, 163, 164]],\n",
       " ['P00739', 'L(UniMod:7)G(UniMod:6)G(UniMod:6)HLDAK', [104, 105, 106]],\n",
       " ['P01008', 'FRIEDGFSL(UniMod:7)K', [362]],\n",
       " ['P01009', 'IQHC(UniMod:4)KKLSSWVLLM(UniMod:35)K', [255, 265]],\n",
       " ['P01023', 'DN(UniMod:5)SVHWERPQKPK', [1178]],\n",
       " ['P01024', 'IHWESASL(UniMod:7)L(UniMod:7)R', [1317, 1318]],\n",
       " ['P02647', 'L(UniMod:7)AEYHAKATEHLSTLSEK', [212]],\n",
       " ['P02649', 'L(UniMod:7)SKELQAAQAR', [110]],\n",
       " ['P02765', 'L(UniMod:7)DGKFSVVYAK', [120]],\n",
       " ['P02768', 'FKDLGEEN(UniMod:5)FK', [41]],\n",
       " ['P04004', 'IYISG(UniMod:6)MAPRPSLAKK', [357]],\n",
       " ['P08603', 'IIYKEN(UniMod:5)ERFQYK', [229]],\n",
       " ['P08697', 'N(UniMod:5)KFDPSLTQR', [242]],\n",
       " ['P36955', 'ITGKPIKL(UniMod:7)TQVEHR', [352]],\n",
       " ['Q5T013', 'IHL(UniMod:7)MAGR', [106]],\n",
       " ['Q96GW7', 'AL(UniMod:7)HPEEDPEGR', [879]]]"
      ]
     },
     "execution_count": 245,
     "metadata": {},
     "output_type": "execute_result"
    }
   ],
   "source": [
    "info_list"
   ]
  },
  {
   "cell_type": "code",
   "execution_count": 246,
   "id": "4b9767c7-1304-412e-bfd6-13111afe8fda",
   "metadata": {},
   "outputs": [
    {
     "data": {
      "text/plain": [
       "'MSDLGAVISLLLWGRQLFALYSGNDVTDISDDRFPKPPEIANGYVEHLFRYQCKNYYRLRTEGDGVYTLNDKKQWINKAVGDKLPECEAVCGKPKNPANPVQRILGGHLDAKGSFPWQAKMVSHHNLTTGATLINEQWLLTTAKNLFLNHSENATAKDIAPTLTLYVGKKQLVEIEKVVLHPNYHQVDIGLIKLKQKVLVNERVMPICLPSKNYAEVGRVGYVSGWGQSDNFKLTDHLKYVMLPVADQYDCITHYEGSTCPKWKAPKSPVGVQPILNEHTFCVGMSKYQEDTCYGDAGSAFAVHDLEEDTWYAAGILSFDKSCAVAEYGVYVKVTSIQHWVQKTIAEN'"
      ]
     },
     "execution_count": 246,
     "metadata": {},
     "output_type": "execute_result"
    }
   ],
   "source": [
    "proteins_dict['P00739']"
   ]
  },
  {
   "cell_type": "code",
   "execution_count": 248,
   "id": "eb8e3930-0da0-4582-95a8-8582a773759d",
   "metadata": {},
   "outputs": [
    {
     "data": {
      "text/plain": [
       "'L'"
      ]
     },
     "execution_count": 248,
     "metadata": {},
     "output_type": "execute_result"
    }
   ],
   "source": [
    "proteins_dict['P00739'][104]"
   ]
  },
  {
   "cell_type": "code",
   "execution_count": 249,
   "id": "ef9939c0-2a24-4b5c-b6bc-21544ac766a8",
   "metadata": {},
   "outputs": [
    {
     "data": {
      "text/plain": [
       "'G'"
      ]
     },
     "execution_count": 249,
     "metadata": {},
     "output_type": "execute_result"
    }
   ],
   "source": [
    "proteins_dict['P00739'][105]"
   ]
  },
  {
   "cell_type": "code",
   "execution_count": 250,
   "id": "1c51865e-f34b-4f68-944d-23a6288641bb",
   "metadata": {},
   "outputs": [
    {
     "data": {
      "text/plain": [
       "'G'"
      ]
     },
     "execution_count": 250,
     "metadata": {},
     "output_type": "execute_result"
    }
   ],
   "source": [
    "proteins_dict['P00739'][106]"
   ]
  },
  {
   "cell_type": "code",
   "execution_count": 251,
   "id": "02efb995-1a20-4daa-93e9-38fe20b50ff1",
   "metadata": {},
   "outputs": [
    {
     "data": {
      "text/plain": [
       "'C'"
      ]
     },
     "execution_count": 251,
     "metadata": {},
     "output_type": "execute_result"
    }
   ],
   "source": [
    "proteins_dict['P01009'][255]"
   ]
  },
  {
   "cell_type": "code",
   "execution_count": 252,
   "id": "df974479-8180-4305-b647-92e5acad24b3",
   "metadata": {},
   "outputs": [
    {
     "data": {
      "text/plain": [
       "'M'"
      ]
     },
     "execution_count": 252,
     "metadata": {},
     "output_type": "execute_result"
    }
   ],
   "source": [
    "proteins_dict['P01009'][265]"
   ]
  },
  {
   "cell_type": "code",
   "execution_count": 269,
   "id": "8d2088a0-6664-41dc-b1c3-987c75cb0345",
   "metadata": {},
   "outputs": [],
   "source": [
    "def write_to_csv(PTM_info_list,output_file_path):\n",
    "    \"\"\"\n",
    "    Takes in...\n",
    "    \"\"\"\n",
    "    with open(output_file_path,mode = 'w') as f:\n",
    "        f.write('ProteinName,FullPeptideName,ModifiedAminoPositions\\n')\n",
    "        for info in PTM_info_list:\n",
    "            idx_as_strs = [ str(num) for num in info[2]]\n",
    "            locations = ';'.join(idx_as_strs)\n",
    "            f.write(f'{info[0]},{info[1]},{locations}\\n')\n",
    "            \n",
    "    return"
   ]
  },
  {
   "cell_type": "code",
   "execution_count": 270,
   "id": "c63b513b-6266-4ddc-a038-370b2888d7f9",
   "metadata": {},
   "outputs": [],
   "source": [
    "write_to_csv(info_list,'./data/output.csv')"
   ]
  },
  {
   "cell_type": "code",
   "execution_count": 278,
   "id": "c2b4364d-e614-40e5-a002-1c402385b471",
   "metadata": {},
   "outputs": [],
   "source": [
    "def find_PTMs(peptide_tsv_filepath,protein_fasta_filepath,output_filepath):\n",
    "    \"\"\"\n",
    "    Takes in a...\n",
    "    \"\"\"\n",
    "    peptides_dict = read_peptides(peptide_tsv_filepath)\n",
    "    proteins_dict = read_proteins(protein_fasta_filepath)\n",
    "    \n",
    "    PTM_info_list = get_PTM_info(peptides_dict,proteins_dict)\n",
    "    \n",
    "    write_to_csv(PTM_info_list,output_filepath)\n",
    "    \n",
    "    print(f'Saved file to {output_filepath}')\n",
    "    \n",
    "    return            "
   ]
  },
  {
   "cell_type": "code",
   "execution_count": 279,
   "id": "ee5e08f4-0e9f-48ae-b6dc-031cb3455e28",
   "metadata": {},
   "outputs": [
    {
     "name": "stdout",
     "output_type": "stream",
     "text": [
      "Found DVFFG(UniMod:6)PK in O75711!\n",
      "Found L(UniMod:7)G(UniMod:6)G(UniMod:6)HLDAK in P00738!\n",
      "Found L(UniMod:7)G(UniMod:6)G(UniMod:6)HLDAK in P00739!\n",
      "Found FRIEDGFSL(UniMod:7)K in P01008!\n",
      "Found IQHC(UniMod:4)KKLSSWVLLM(UniMod:35)K in P01009!\n",
      "Found DN(UniMod:5)SVHWERPQKPK in P01023!\n",
      "Found IHWESASL(UniMod:7)L(UniMod:7)R in P01024!\n",
      "Found L(UniMod:7)AEYHAKATEHLSTLSEK in P02647!\n",
      "Found L(UniMod:7)SKELQAAQAR in P02649!\n",
      "Found L(UniMod:7)DGKFSVVYAK in P02765!\n",
      "Found FKDLGEEN(UniMod:5)FK in P02768!\n",
      "Found IYISG(UniMod:6)MAPRPSLAKK in P04004!\n",
      "Found IIYKEN(UniMod:5)ERFQYK in P08603!\n",
      "Found N(UniMod:5)KFDPSLTQR in P08697!\n",
      "Found ITGKPIKL(UniMod:7)TQVEHR in P36955!\n",
      "Found IHL(UniMod:7)MAGR in Q5T013!\n",
      "Found AL(UniMod:7)HPEEDPEGR in Q96GW7!\n",
      "Saved file to ./data/output.csv\n"
     ]
    }
   ],
   "source": [
    "find_PTMs('./data/input.tsv','./data/proteins.fasta','./data/output.csv')"
   ]
  },
  {
   "cell_type": "code",
   "execution_count": null,
   "id": "e9a45a0b-9d3a-4667-a626-cfd9e9c33361",
   "metadata": {},
   "outputs": [],
   "source": []
  }
 ],
 "metadata": {
  "kernelspec": {
   "display_name": "learn-env",
   "language": "python",
   "name": "learn-env"
  },
  "language_info": {
   "codemirror_mode": {
    "name": "ipython",
    "version": 3
   },
   "file_extension": ".py",
   "mimetype": "text/x-python",
   "name": "python",
   "nbconvert_exporter": "python",
   "pygments_lexer": "ipython3",
   "version": "3.8.5"
  }
 },
 "nbformat": 4,
 "nbformat_minor": 5
}
